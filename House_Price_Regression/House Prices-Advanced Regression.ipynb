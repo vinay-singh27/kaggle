{
 "cells": [
  {
   "cell_type": "code",
   "execution_count": 1,
   "metadata": {},
   "outputs": [],
   "source": [
    "#data libraries\n",
    "import pandas as pd\n",
    "import numpy as np\n",
    "\n",
    "#visualization libraries\n",
    "import matplotlib.pyplot as plt\n",
    "import seaborn as sns\n",
    "plt.style.use(style='ggplot')\n",
    "plt.rcParams['figure.figsize'] = (10, 6)\n",
    "%matplotlib inline\n",
    "\n",
    "#sklearn\n",
    "from sklearn.preprocessing import StandardScaler\n",
    "from sklearn.linear_model import LinearRegression, Lasso\n",
    "\n",
    "import warnings\n",
    "warnings.filterwarnings('ignore')\n"
   ]
  },
  {
   "cell_type": "code",
   "execution_count": 2,
   "metadata": {},
   "outputs": [
    {
     "data": {
      "text/html": [
       "<style type=\"text/css\">\n",
       "table.dataframe td, table.dataframe th {\n",
       "    border: 1px  black solid !important;\n",
       "  color: black !important;\n",
       "}\n"
      ],
      "text/plain": [
       "<IPython.core.display.HTML object>"
      ]
     },
     "metadata": {},
     "output_type": "display_data"
    }
   ],
   "source": [
    "%%HTML\n",
    "<style type=\"text/css\">\n",
    "table.dataframe td, table.dataframe th {\n",
    "    border: 1px  black solid !important;\n",
    "  color: black !important;\n",
    "}"
   ]
  },
  {
   "cell_type": "markdown",
   "metadata": {},
   "source": [
    "# Load Data"
   ]
  },
  {
   "cell_type": "code",
   "execution_count": 3,
   "metadata": {},
   "outputs": [],
   "source": [
    "#Reading training data\n",
    "df_train = pd.read_csv('train.csv')\n",
    "df_test = pd.read_csv('test.csv')\n",
    "\n",
    "#creating submission dataframe\n",
    "submission = pd.DataFrame(columns= ['Id', 'SalePrice'])\n",
    "submission['Id'] = df_test['Id']"
   ]
  },
  {
   "cell_type": "code",
   "execution_count": 4,
   "metadata": {
    "collapsed": true
   },
   "outputs": [
    {
     "name": "stdout",
     "output_type": "stream",
     "text": [
      "MSSubClass: Identifies the type of dwelling involved in the sale.\t\n",
      "\n",
      "\n",
      "\n",
      "        20\t1-STORY 1946 & NEWER ALL STYLES\n",
      "\n",
      "        30\t1-STORY 1945 & OLDER\n",
      "\n",
      "        40\t1-STORY W/FINISHED ATTIC ALL AGES\n",
      "\n",
      "        45\t1-1/2 STORY - UNFINISHED ALL AGES\n",
      "\n",
      "        50\t1-1/2 STORY FINISHED ALL AGES\n",
      "\n",
      "        60\t2-STORY 1946 & NEWER\n",
      "\n",
      "        70\t2-STORY 1945 & OLDER\n",
      "\n",
      "        75\t2-1/2 STORY ALL AGES\n",
      "\n",
      "        80\tSPLIT OR MULTI-LEVEL\n",
      "\n",
      "        85\tSPLIT FOYER\n",
      "\n",
      "        90\tDUPLEX - ALL STYLES AND AGES\n",
      "\n",
      "       120\t1-STORY PUD (Planned Unit Development) - 1946 & NEWER\n",
      "\n",
      "       150\t1-1/2 STORY PUD - ALL AGES\n",
      "\n",
      "       160\t2-STORY PUD - 1946 & NEWER\n",
      "\n",
      "       180\tPUD - MULTILEVEL - INCL SPLIT LEV/FOYER\n",
      "\n",
      "       190\t2 FAMILY CONVERSION - ALL STYLES AND AGES\n",
      "\n",
      "\n",
      "\n",
      "MSZoning: Identifies the general zoning classification of the sale.\n",
      "\n",
      "\t\t\n",
      "\n",
      "       A\tAgriculture\n",
      "\n",
      "       C\tCommercial\n",
      "\n",
      "       FV\tFloating Village Residential\n",
      "\n",
      "       I\tIndustrial\n",
      "\n",
      "       RH\tResidential High Density\n",
      "\n",
      "       RL\tResidential Low Density\n",
      "\n",
      "       RP\tResidential Low Density Park \n",
      "\n",
      "       RM\tResidential Medium Density\n",
      "\n",
      "\t\n",
      "\n",
      "LotFrontage: Linear feet of street connected to property\n",
      "\n",
      "\n",
      "\n",
      "LotArea: Lot size in square feet\n",
      "\n",
      "\n",
      "\n",
      "Street: Type of road access to property\n",
      "\n",
      "\n",
      "\n",
      "       Grvl\tGravel\t\n",
      "\n",
      "       Pave\tPaved\n",
      "\n",
      "       \t\n",
      "\n",
      "Alley: Type of alley access to property\n",
      "\n",
      "\n",
      "\n",
      "       Grvl\tGravel\n",
      "\n",
      "       Pave\tPaved\n",
      "\n",
      "       NA \tNo alley access\n",
      "\n",
      "\t\t\n",
      "\n",
      "LotShape: General shape of property\n",
      "\n",
      "\n",
      "\n",
      "       Reg\tRegular\t\n",
      "\n",
      "       IR1\tSlightly irregular\n",
      "\n",
      "       IR2\tModerately Irregular\n",
      "\n",
      "       IR3\tIrregular\n",
      "\n",
      "       \n",
      "\n",
      "LandContour: Flatness of the property\n",
      "\n",
      "\n",
      "\n",
      "       Lvl\tNear Flat/Level\t\n",
      "\n",
      "       Bnk\tBanked - Quick and significant rise from street grade to building\n",
      "\n",
      "       HLS\tHillside - Significant slope from side to side\n",
      "\n",
      "       Low\tDepression\n",
      "\n",
      "\t\t\n",
      "\n",
      "Utilities: Type of utilities available\n",
      "\n",
      "\t\t\n",
      "\n",
      "       AllPub\tAll public Utilities (E,G,W,& S)\t\n",
      "\n",
      "       NoSewr\tElectricity, Gas, and Water (Septic Tank)\n",
      "\n",
      "       NoSeWa\tElectricity and Gas Only\n",
      "\n",
      "       ELO\tElectricity only\t\n",
      "\n",
      "\t\n",
      "\n",
      "LotConfig: Lot configuration\n",
      "\n",
      "\n",
      "\n",
      "       Inside\tInside lot\n",
      "\n",
      "       Corner\tCorner lot\n",
      "\n",
      "       CulDSac\tCul-de-sac\n",
      "\n",
      "       FR2\tFrontage on 2 sides of property\n",
      "\n",
      "       FR3\tFrontage on 3 sides of property\n",
      "\n",
      "\t\n",
      "\n",
      "LandSlope: Slope of property\n",
      "\n",
      "\t\t\n",
      "\n",
      "       Gtl\tGentle slope\n",
      "\n",
      "       Mod\tModerate Slope\t\n",
      "\n",
      "       Sev\tSevere Slope\n",
      "\n",
      "\t\n",
      "\n",
      "Neighborhood: Physical locations within Ames city limits\n",
      "\n",
      "\n",
      "\n",
      "       Blmngtn\tBloomington Heights\n",
      "\n",
      "       Blueste\tBluestem\n",
      "\n",
      "       BrDale\tBriardale\n",
      "\n",
      "       BrkSide\tBrookside\n",
      "\n",
      "       ClearCr\tClear Creek\n",
      "\n",
      "       CollgCr\tCollege Creek\n",
      "\n",
      "       Crawfor\tCrawford\n",
      "\n",
      "       Edwards\tEdwards\n",
      "\n",
      "       Gilbert\tGilbert\n",
      "\n",
      "       IDOTRR\tIowa DOT and Rail Road\n",
      "\n",
      "       MeadowV\tMeadow Village\n",
      "\n",
      "       Mitchel\tMitchell\n",
      "\n",
      "       Names\tNorth Ames\n",
      "\n",
      "       NoRidge\tNorthridge\n",
      "\n",
      "       NPkVill\tNorthpark Villa\n",
      "\n",
      "       NridgHt\tNorthridge Heights\n",
      "\n",
      "       NWAmes\tNorthwest Ames\n",
      "\n",
      "       OldTown\tOld Town\n",
      "\n",
      "       SWISU\tSouth & West of Iowa State University\n",
      "\n",
      "       Sawyer\tSawyer\n",
      "\n",
      "       SawyerW\tSawyer West\n",
      "\n",
      "       Somerst\tSomerset\n",
      "\n",
      "       StoneBr\tStone Brook\n",
      "\n",
      "       Timber\tTimberland\n",
      "\n",
      "       Veenker\tVeenker\n",
      "\n",
      "\t\t\t\n",
      "\n",
      "Condition1: Proximity to various conditions\n",
      "\n",
      "\t\n",
      "\n",
      "       Artery\tAdjacent to arterial street\n",
      "\n",
      "       Feedr\tAdjacent to feeder street\t\n",
      "\n",
      "       Norm\tNormal\t\n",
      "\n",
      "       RRNn\tWithin 200' of North-South Railroad\n",
      "\n",
      "       RRAn\tAdjacent to North-South Railroad\n",
      "\n",
      "       PosN\tNear positive off-site feature--park, greenbelt, etc.\n",
      "\n",
      "       PosA\tAdjacent to postive off-site feature\n",
      "\n",
      "       RRNe\tWithin 200' of East-West Railroad\n",
      "\n",
      "       RRAe\tAdjacent to East-West Railroad\n",
      "\n",
      "\t\n",
      "\n",
      "Condition2: Proximity to various conditions (if more than one is present)\n",
      "\n",
      "\t\t\n",
      "\n",
      "       Artery\tAdjacent to arterial street\n",
      "\n",
      "       Feedr\tAdjacent to feeder street\t\n",
      "\n",
      "       Norm\tNormal\t\n",
      "\n",
      "       RRNn\tWithin 200' of North-South Railroad\n",
      "\n",
      "       RRAn\tAdjacent to North-South Railroad\n",
      "\n",
      "       PosN\tNear positive off-site feature--park, greenbelt, etc.\n",
      "\n",
      "       PosA\tAdjacent to postive off-site feature\n",
      "\n",
      "       RRNe\tWithin 200' of East-West Railroad\n",
      "\n",
      "       RRAe\tAdjacent to East-West Railroad\n",
      "\n",
      "\t\n",
      "\n",
      "BldgType: Type of dwelling\n",
      "\n",
      "\t\t\n",
      "\n",
      "       1Fam\tSingle-family Detached\t\n",
      "\n",
      "       2FmCon\tTwo-family Conversion; originally built as one-family dwelling\n",
      "\n",
      "       Duplx\tDuplex\n",
      "\n",
      "       TwnhsE\tTownhouse End Unit\n",
      "\n",
      "       TwnhsI\tTownhouse Inside Unit\n",
      "\n",
      "\t\n",
      "\n",
      "HouseStyle: Style of dwelling\n",
      "\n",
      "\t\n",
      "\n",
      "       1Story\tOne story\n",
      "\n",
      "       1.5Fin\tOne and one-half story: 2nd level finished\n",
      "\n",
      "       1.5Unf\tOne and one-half story: 2nd level unfinished\n",
      "\n",
      "       2Story\tTwo story\n",
      "\n",
      "       2.5Fin\tTwo and one-half story: 2nd level finished\n",
      "\n",
      "       2.5Unf\tTwo and one-half story: 2nd level unfinished\n",
      "\n",
      "       SFoyer\tSplit Foyer\n",
      "\n",
      "       SLvl\tSplit Level\n",
      "\n",
      "\t\n",
      "\n",
      "OverallQual: Rates the overall material and finish of the house\n",
      "\n",
      "\n",
      "\n",
      "       10\tVery Excellent\n",
      "\n",
      "       9\tExcellent\n",
      "\n",
      "       8\tVery Good\n",
      "\n",
      "       7\tGood\n",
      "\n",
      "       6\tAbove Average\n",
      "\n",
      "       5\tAverage\n",
      "\n",
      "       4\tBelow Average\n",
      "\n",
      "       3\tFair\n",
      "\n",
      "       2\tPoor\n",
      "\n",
      "       1\tVery Poor\n",
      "\n",
      "\t\n",
      "\n",
      "OverallCond: Rates the overall condition of the house\n",
      "\n",
      "\n",
      "\n",
      "       10\tVery Excellent\n",
      "\n",
      "       9\tExcellent\n",
      "\n",
      "       8\tVery Good\n",
      "\n",
      "       7\tGood\n",
      "\n",
      "       6\tAbove Average\t\n",
      "\n",
      "       5\tAverage\n",
      "\n",
      "       4\tBelow Average\t\n",
      "\n",
      "       3\tFair\n",
      "\n",
      "       2\tPoor\n",
      "\n",
      "       1\tVery Poor\n",
      "\n",
      "\t\t\n",
      "\n",
      "YearBuilt: Original construction date\n",
      "\n",
      "\n",
      "\n",
      "YearRemodAdd: Remodel date (same as construction date if no remodeling or additions)\n",
      "\n",
      "\n",
      "\n",
      "RoofStyle: Type of roof\n",
      "\n",
      "\n",
      "\n",
      "       Flat\tFlat\n",
      "\n",
      "       Gable\tGable\n",
      "\n",
      "       Gambrel\tGabrel (Barn)\n",
      "\n",
      "       Hip\tHip\n",
      "\n",
      "       Mansard\tMansard\n",
      "\n",
      "       Shed\tShed\n",
      "\n",
      "\t\t\n",
      "\n",
      "RoofMatl: Roof material\n",
      "\n",
      "\n",
      "\n",
      "       ClyTile\tClay or Tile\n",
      "\n",
      "       CompShg\tStandard (Composite) Shingle\n",
      "\n",
      "       Membran\tMembrane\n",
      "\n",
      "       Metal\tMetal\n",
      "\n",
      "       Roll\tRoll\n",
      "\n",
      "       Tar&Grv\tGravel & Tar\n",
      "\n",
      "       WdShake\tWood Shakes\n",
      "\n",
      "       WdShngl\tWood Shingles\n",
      "\n",
      "\t\t\n",
      "\n",
      "Exterior1st: Exterior covering on house\n",
      "\n",
      "\n",
      "\n",
      "       AsbShng\tAsbestos Shingles\n",
      "\n",
      "       AsphShn\tAsphalt Shingles\n",
      "\n",
      "       BrkComm\tBrick Common\n",
      "\n",
      "       BrkFace\tBrick Face\n",
      "\n",
      "       CBlock\tCinder Block\n",
      "\n",
      "       CemntBd\tCement Board\n",
      "\n",
      "       HdBoard\tHard Board\n",
      "\n",
      "       ImStucc\tImitation Stucco\n",
      "\n",
      "       MetalSd\tMetal Siding\n",
      "\n",
      "       Other\tOther\n",
      "\n",
      "       Plywood\tPlywood\n",
      "\n",
      "       PreCast\tPreCast\t\n",
      "\n",
      "       Stone\tStone\n",
      "\n",
      "       Stucco\tStucco\n",
      "\n",
      "       VinylSd\tVinyl Siding\n",
      "\n",
      "       Wd Sdng\tWood Siding\n",
      "\n",
      "       WdShing\tWood Shingles\n",
      "\n",
      "\t\n",
      "\n",
      "Exterior2nd: Exterior covering on house (if more than one material)\n",
      "\n",
      "\n",
      "\n",
      "       AsbShng\tAsbestos Shingles\n",
      "\n",
      "       AsphShn\tAsphalt Shingles\n",
      "\n",
      "       BrkComm\tBrick Common\n",
      "\n",
      "       BrkFace\tBrick Face\n",
      "\n",
      "       CBlock\tCinder Block\n",
      "\n",
      "       CemntBd\tCement Board\n",
      "\n",
      "       HdBoard\tHard Board\n",
      "\n",
      "       ImStucc\tImitation Stucco\n",
      "\n",
      "       MetalSd\tMetal Siding\n",
      "\n",
      "       Other\tOther\n",
      "\n",
      "       Plywood\tPlywood\n",
      "\n",
      "       PreCast\tPreCast\n",
      "\n",
      "       Stone\tStone\n",
      "\n",
      "       Stucco\tStucco\n",
      "\n",
      "       VinylSd\tVinyl Siding\n",
      "\n",
      "       Wd Sdng\tWood Siding\n",
      "\n",
      "       WdShing\tWood Shingles\n",
      "\n",
      "\t\n",
      "\n",
      "MasVnrType: Masonry veneer type\n",
      "\n",
      "\n",
      "\n",
      "       BrkCmn\tBrick Common\n",
      "\n",
      "       BrkFace\tBrick Face\n",
      "\n",
      "       CBlock\tCinder Block\n",
      "\n",
      "       None\tNone\n",
      "\n",
      "       Stone\tStone\n",
      "\n",
      "\t\n",
      "\n",
      "MasVnrArea: Masonry veneer area in square feet\n",
      "\n",
      "\n",
      "\n",
      "ExterQual: Evaluates the quality of the material on the exterior \n",
      "\n",
      "\t\t\n",
      "\n",
      "       Ex\tExcellent\n",
      "\n",
      "       Gd\tGood\n",
      "\n",
      "       TA\tAverage/Typical\n",
      "\n",
      "       Fa\tFair\n",
      "\n",
      "       Po\tPoor\n",
      "\n",
      "\t\t\n",
      "\n",
      "ExterCond: Evaluates the present condition of the material on the exterior\n",
      "\n",
      "\t\t\n",
      "\n",
      "       Ex\tExcellent\n",
      "\n",
      "       Gd\tGood\n",
      "\n",
      "       TA\tAverage/Typical\n",
      "\n",
      "       Fa\tFair\n",
      "\n",
      "       Po\tPoor\n",
      "\n",
      "\t\t\n",
      "\n",
      "Foundation: Type of foundation\n",
      "\n",
      "\t\t\n",
      "\n",
      "       BrkTil\tBrick & Tile\n",
      "\n",
      "       CBlock\tCinder Block\n",
      "\n",
      "       PConc\tPoured Contrete\t\n",
      "\n",
      "       Slab\tSlab\n",
      "\n",
      "       Stone\tStone\n",
      "\n",
      "       Wood\tWood\n",
      "\n",
      "\t\t\n",
      "\n",
      "BsmtQual: Evaluates the height of the basement\n",
      "\n",
      "\n",
      "\n",
      "       Ex\tExcellent (100+ inches)\t\n",
      "\n",
      "       Gd\tGood (90-99 inches)\n",
      "\n",
      "       TA\tTypical (80-89 inches)\n",
      "\n",
      "       Fa\tFair (70-79 inches)\n",
      "\n",
      "       Po\tPoor (<70 inches\n",
      "\n",
      "       NA\tNo Basement\n",
      "\n",
      "\t\t\n",
      "\n",
      "BsmtCond: Evaluates the general condition of the basement\n",
      "\n",
      "\n",
      "\n",
      "       Ex\tExcellent\n",
      "\n",
      "       Gd\tGood\n",
      "\n",
      "       TA\tTypical - slight dampness allowed\n",
      "\n",
      "       Fa\tFair - dampness or some cracking or settling\n",
      "\n",
      "       Po\tPoor - Severe cracking, settling, or wetness\n",
      "\n",
      "       NA\tNo Basement\n",
      "\n",
      "\t\n",
      "\n",
      "BsmtExposure: Refers to walkout or garden level walls\n",
      "\n",
      "\n",
      "\n",
      "       Gd\tGood Exposure\n",
      "\n",
      "       Av\tAverage Exposure (split levels or foyers typically score average or above)\t\n",
      "\n",
      "       Mn\tMimimum Exposure\n",
      "\n",
      "       No\tNo Exposure\n",
      "\n",
      "       NA\tNo Basement\n",
      "\n",
      "\t\n",
      "\n",
      "BsmtFinType1: Rating of basement finished area\n",
      "\n",
      "\n",
      "\n",
      "       GLQ\tGood Living Quarters\n",
      "\n",
      "       ALQ\tAverage Living Quarters\n",
      "\n",
      "       BLQ\tBelow Average Living Quarters\t\n",
      "\n",
      "       Rec\tAverage Rec Room\n",
      "\n",
      "       LwQ\tLow Quality\n",
      "\n",
      "       Unf\tUnfinshed\n",
      "\n",
      "       NA\tNo Basement\n",
      "\n",
      "\t\t\n",
      "\n",
      "BsmtFinSF1: Type 1 finished square feet\n",
      "\n",
      "\n",
      "\n",
      "BsmtFinType2: Rating of basement finished area (if multiple types)\n",
      "\n",
      "\n",
      "\n",
      "       GLQ\tGood Living Quarters\n",
      "\n",
      "       ALQ\tAverage Living Quarters\n",
      "\n",
      "       BLQ\tBelow Average Living Quarters\t\n",
      "\n",
      "       Rec\tAverage Rec Room\n",
      "\n",
      "       LwQ\tLow Quality\n",
      "\n",
      "       Unf\tUnfinshed\n",
      "\n",
      "       NA\tNo Basement\n",
      "\n",
      "\n",
      "\n",
      "BsmtFinSF2: Type 2 finished square feet\n",
      "\n",
      "\n",
      "\n",
      "BsmtUnfSF: Unfinished square feet of basement area\n",
      "\n",
      "\n",
      "\n",
      "TotalBsmtSF: Total square feet of basement area\n",
      "\n",
      "\n",
      "\n",
      "Heating: Type of heating\n",
      "\n",
      "\t\t\n",
      "\n",
      "       Floor\tFloor Furnace\n",
      "\n",
      "       GasA\tGas forced warm air furnace\n",
      "\n",
      "       GasW\tGas hot water or steam heat\n",
      "\n",
      "       Grav\tGravity furnace\t\n",
      "\n",
      "       OthW\tHot water or steam heat other than gas\n",
      "\n",
      "       Wall\tWall furnace\n",
      "\n",
      "\t\t\n",
      "\n",
      "HeatingQC: Heating quality and condition\n",
      "\n",
      "\n",
      "\n",
      "       Ex\tExcellent\n",
      "\n",
      "       Gd\tGood\n",
      "\n",
      "       TA\tAverage/Typical\n",
      "\n",
      "       Fa\tFair\n",
      "\n",
      "       Po\tPoor\n",
      "\n",
      "\t\t\n",
      "\n",
      "CentralAir: Central air conditioning\n",
      "\n",
      "\n",
      "\n",
      "       N\tNo\n",
      "\n",
      "       Y\tYes\n",
      "\n",
      "\t\t\n",
      "\n",
      "Electrical: Electrical system\n",
      "\n",
      "\n",
      "\n",
      "       SBrkr\tStandard Circuit Breakers & Romex\n",
      "\n",
      "       FuseA\tFuse Box over 60 AMP and all Romex wiring (Average)\t\n",
      "\n",
      "       FuseF\t60 AMP Fuse Box and mostly Romex wiring (Fair)\n",
      "\n",
      "       FuseP\t60 AMP Fuse Box and mostly knob & tube wiring (poor)\n",
      "\n",
      "       Mix\tMixed\n",
      "\n",
      "\t\t\n",
      "\n",
      "1stFlrSF: First Floor square feet\n",
      "\n",
      " \n",
      "\n",
      "2ndFlrSF: Second floor square feet\n",
      "\n",
      "\n",
      "\n",
      "LowQualFinSF: Low quality finished square feet (all floors)\n",
      "\n",
      "\n",
      "\n",
      "GrLivArea: Above grade (ground) living area square feet\n",
      "\n",
      "\n",
      "\n",
      "BsmtFullBath: Basement full bathrooms\n",
      "\n",
      "\n",
      "\n",
      "BsmtHalfBath: Basement half bathrooms\n",
      "\n",
      "\n",
      "\n",
      "FullBath: Full bathrooms above grade\n",
      "\n",
      "\n",
      "\n",
      "HalfBath: Half baths above grade\n",
      "\n",
      "\n",
      "\n",
      "Bedroom: Bedrooms above grade (does NOT include basement bedrooms)\n",
      "\n",
      "\n",
      "\n",
      "Kitchen: Kitchens above grade\n",
      "\n",
      "\n",
      "\n",
      "KitchenQual: Kitchen quality\n",
      "\n",
      "\n",
      "\n",
      "       Ex\tExcellent\n",
      "\n",
      "       Gd\tGood\n",
      "\n",
      "       TA\tTypical/Average\n",
      "\n",
      "       Fa\tFair\n",
      "\n",
      "       Po\tPoor\n",
      "\n",
      "       \t\n",
      "\n",
      "TotRmsAbvGrd: Total rooms above grade (does not include bathrooms)\n",
      "\n",
      "\n",
      "\n",
      "Functional: Home functionality (Assume typical unless deductions are warranted)\n",
      "\n",
      "\n",
      "\n",
      "       Typ\tTypical Functionality\n",
      "\n",
      "       Min1\tMinor Deductions 1\n",
      "\n",
      "       Min2\tMinor Deductions 2\n",
      "\n",
      "       Mod\tModerate Deductions\n",
      "\n",
      "       Maj1\tMajor Deductions 1\n",
      "\n",
      "       Maj2\tMajor Deductions 2\n",
      "\n",
      "       Sev\tSeverely Damaged\n",
      "\n",
      "       Sal\tSalvage only\n",
      "\n",
      "\t\t\n",
      "\n",
      "Fireplaces: Number of fireplaces\n",
      "\n",
      "\n",
      "\n",
      "FireplaceQu: Fireplace quality\n",
      "\n",
      "\n",
      "\n",
      "       Ex\tExcellent - Exceptional Masonry Fireplace\n",
      "\n",
      "       Gd\tGood - Masonry Fireplace in main level\n",
      "\n",
      "       TA\tAverage - Prefabricated Fireplace in main living area or Masonry Fireplace in basement\n",
      "\n",
      "       Fa\tFair - Prefabricated Fireplace in basement\n",
      "\n",
      "       Po\tPoor - Ben Franklin Stove\n",
      "\n",
      "       NA\tNo Fireplace\n",
      "\n",
      "\t\t\n",
      "\n",
      "GarageType: Garage location\n",
      "\n",
      "\t\t\n",
      "\n",
      "       2Types\tMore than one type of garage\n",
      "\n",
      "       Attchd\tAttached to home\n",
      "\n",
      "       Basment\tBasement Garage\n",
      "\n",
      "       BuiltIn\tBuilt-In (Garage part of house - typically has room above garage)\n",
      "\n",
      "       CarPort\tCar Port\n",
      "\n",
      "       Detchd\tDetached from home\n",
      "\n",
      "       NA\tNo Garage\n",
      "\n",
      "\t\t\n",
      "\n",
      "GarageYrBlt: Year garage was built\n",
      "\n",
      "\t\t\n",
      "\n",
      "GarageFinish: Interior finish of the garage\n",
      "\n",
      "\n",
      "\n",
      "       Fin\tFinished\n",
      "\n",
      "       RFn\tRough Finished\t\n",
      "\n",
      "       Unf\tUnfinished\n",
      "\n",
      "       NA\tNo Garage\n",
      "\n",
      "\t\t\n",
      "\n",
      "GarageCars: Size of garage in car capacity\n",
      "\n",
      "\n",
      "\n",
      "GarageArea: Size of garage in square feet\n",
      "\n",
      "\n",
      "\n",
      "GarageQual: Garage quality\n",
      "\n",
      "\n",
      "\n",
      "       Ex\tExcellent\n",
      "\n",
      "       Gd\tGood\n",
      "\n",
      "       TA\tTypical/Average\n",
      "\n",
      "       Fa\tFair\n",
      "\n",
      "       Po\tPoor\n",
      "\n",
      "       NA\tNo Garage\n",
      "\n",
      "\t\t\n",
      "\n",
      "GarageCond: Garage condition\n",
      "\n",
      "\n",
      "\n",
      "       Ex\tExcellent\n",
      "\n",
      "       Gd\tGood\n",
      "\n",
      "       TA\tTypical/Average\n",
      "\n",
      "       Fa\tFair\n",
      "\n",
      "       Po\tPoor\n",
      "\n",
      "       NA\tNo Garage\n",
      "\n",
      "\t\t\n",
      "\n",
      "PavedDrive: Paved driveway\n",
      "\n",
      "\n",
      "\n",
      "       Y\tPaved \n",
      "\n",
      "       P\tPartial Pavement\n",
      "\n",
      "       N\tDirt/Gravel\n",
      "\n",
      "\t\t\n",
      "\n",
      "WoodDeckSF: Wood deck area in square feet\n",
      "\n",
      "\n",
      "\n",
      "OpenPorchSF: Open porch area in square feet\n",
      "\n",
      "\n",
      "\n",
      "EnclosedPorch: Enclosed porch area in square feet\n",
      "\n",
      "\n",
      "\n",
      "3SsnPorch: Three season porch area in square feet\n",
      "\n",
      "\n",
      "\n",
      "ScreenPorch: Screen porch area in square feet\n",
      "\n",
      "\n",
      "\n",
      "PoolArea: Pool area in square feet\n",
      "\n",
      "\n",
      "\n",
      "PoolQC: Pool quality\n",
      "\n",
      "\t\t\n",
      "\n",
      "       Ex\tExcellent\n",
      "\n",
      "       Gd\tGood\n",
      "\n",
      "       TA\tAverage/Typical\n",
      "\n",
      "       Fa\tFair\n",
      "\n",
      "       NA\tNo Pool\n",
      "\n",
      "\t\t\n",
      "\n",
      "Fence: Fence quality\n",
      "\n",
      "\t\t\n",
      "\n",
      "       GdPrv\tGood Privacy\n",
      "\n",
      "       MnPrv\tMinimum Privacy\n",
      "\n",
      "       GdWo\tGood Wood\n",
      "\n",
      "       MnWw\tMinimum Wood/Wire\n",
      "\n",
      "       NA\tNo Fence\n",
      "\n",
      "\t\n",
      "\n",
      "MiscFeature: Miscellaneous feature not covered in other categories\n",
      "\n",
      "\t\t\n",
      "\n",
      "       Elev\tElevator\n",
      "\n",
      "       Gar2\t2nd Garage (if not described in garage section)\n",
      "\n",
      "       Othr\tOther\n",
      "\n",
      "       Shed\tShed (over 100 SF)\n",
      "\n",
      "       TenC\tTennis Court\n",
      "\n",
      "       NA\tNone\n",
      "\n",
      "\t\t\n",
      "\n",
      "MiscVal: $Value of miscellaneous feature\n",
      "\n",
      "\n",
      "\n",
      "MoSold: Month Sold (MM)\n",
      "\n",
      "\n",
      "\n",
      "YrSold: Year Sold (YYYY)\n",
      "\n",
      "\n",
      "\n",
      "SaleType: Type of sale\n",
      "\n",
      "\t\t\n",
      "\n",
      "       WD \tWarranty Deed - Conventional\n",
      "\n",
      "       CWD\tWarranty Deed - Cash\n",
      "\n",
      "       VWD\tWarranty Deed - VA Loan\n",
      "\n",
      "       New\tHome just constructed and sold\n",
      "\n",
      "       COD\tCourt Officer Deed/Estate\n",
      "\n",
      "       Con\tContract 15% Down payment regular terms\n",
      "\n",
      "       ConLw\tContract Low Down payment and low interest\n",
      "\n",
      "       ConLI\tContract Low Interest\n",
      "\n",
      "       ConLD\tContract Low Down\n",
      "\n",
      "       Oth\tOther\n",
      "\n",
      "\t\t\n",
      "\n",
      "SaleCondition: Condition of sale\n",
      "\n",
      "\n",
      "\n",
      "       Normal\tNormal Sale\n",
      "\n",
      "       Abnorml\tAbnormal Sale -  trade, foreclosure, short sale\n",
      "\n",
      "       AdjLand\tAdjoining Land Purchase\n",
      "\n",
      "       Alloca\tAllocation - two linked properties with separate deeds, typically condo with a garage unit\t\n",
      "\n",
      "       Family\tSale between family members\n",
      "\n",
      "       Partial\tHome was not completed when last assessed (associated with New Homes)\n",
      "\n"
     ]
    }
   ],
   "source": [
    "#keeping the data description avaiable to understand the features\n",
    "with open(r'data_description.txt', 'r') as f:\n",
    "    for line in f.readlines() :\n",
    "        print(line)"
   ]
  },
  {
   "cell_type": "code",
   "execution_count": 5,
   "metadata": {},
   "outputs": [
    {
     "data": {
      "text/html": [
       "<div>\n",
       "<style scoped>\n",
       "    .dataframe tbody tr th:only-of-type {\n",
       "        vertical-align: middle;\n",
       "    }\n",
       "\n",
       "    .dataframe tbody tr th {\n",
       "        vertical-align: top;\n",
       "    }\n",
       "\n",
       "    .dataframe thead th {\n",
       "        text-align: right;\n",
       "    }\n",
       "</style>\n",
       "<table border=\"1\" class=\"dataframe\">\n",
       "  <thead>\n",
       "    <tr style=\"text-align: right;\">\n",
       "      <th></th>\n",
       "      <th>Id</th>\n",
       "      <th>MSSubClass</th>\n",
       "      <th>MSZoning</th>\n",
       "      <th>LotFrontage</th>\n",
       "      <th>LotArea</th>\n",
       "      <th>Street</th>\n",
       "      <th>Alley</th>\n",
       "      <th>LotShape</th>\n",
       "      <th>LandContour</th>\n",
       "      <th>Utilities</th>\n",
       "      <th>...</th>\n",
       "      <th>PoolArea</th>\n",
       "      <th>PoolQC</th>\n",
       "      <th>Fence</th>\n",
       "      <th>MiscFeature</th>\n",
       "      <th>MiscVal</th>\n",
       "      <th>MoSold</th>\n",
       "      <th>YrSold</th>\n",
       "      <th>SaleType</th>\n",
       "      <th>SaleCondition</th>\n",
       "      <th>SalePrice</th>\n",
       "    </tr>\n",
       "  </thead>\n",
       "  <tbody>\n",
       "    <tr>\n",
       "      <th>0</th>\n",
       "      <td>1</td>\n",
       "      <td>60</td>\n",
       "      <td>RL</td>\n",
       "      <td>65.0</td>\n",
       "      <td>8450</td>\n",
       "      <td>Pave</td>\n",
       "      <td>NaN</td>\n",
       "      <td>Reg</td>\n",
       "      <td>Lvl</td>\n",
       "      <td>AllPub</td>\n",
       "      <td>...</td>\n",
       "      <td>0</td>\n",
       "      <td>NaN</td>\n",
       "      <td>NaN</td>\n",
       "      <td>NaN</td>\n",
       "      <td>0</td>\n",
       "      <td>2</td>\n",
       "      <td>2008</td>\n",
       "      <td>WD</td>\n",
       "      <td>Normal</td>\n",
       "      <td>208500</td>\n",
       "    </tr>\n",
       "    <tr>\n",
       "      <th>1</th>\n",
       "      <td>2</td>\n",
       "      <td>20</td>\n",
       "      <td>RL</td>\n",
       "      <td>80.0</td>\n",
       "      <td>9600</td>\n",
       "      <td>Pave</td>\n",
       "      <td>NaN</td>\n",
       "      <td>Reg</td>\n",
       "      <td>Lvl</td>\n",
       "      <td>AllPub</td>\n",
       "      <td>...</td>\n",
       "      <td>0</td>\n",
       "      <td>NaN</td>\n",
       "      <td>NaN</td>\n",
       "      <td>NaN</td>\n",
       "      <td>0</td>\n",
       "      <td>5</td>\n",
       "      <td>2007</td>\n",
       "      <td>WD</td>\n",
       "      <td>Normal</td>\n",
       "      <td>181500</td>\n",
       "    </tr>\n",
       "    <tr>\n",
       "      <th>2</th>\n",
       "      <td>3</td>\n",
       "      <td>60</td>\n",
       "      <td>RL</td>\n",
       "      <td>68.0</td>\n",
       "      <td>11250</td>\n",
       "      <td>Pave</td>\n",
       "      <td>NaN</td>\n",
       "      <td>IR1</td>\n",
       "      <td>Lvl</td>\n",
       "      <td>AllPub</td>\n",
       "      <td>...</td>\n",
       "      <td>0</td>\n",
       "      <td>NaN</td>\n",
       "      <td>NaN</td>\n",
       "      <td>NaN</td>\n",
       "      <td>0</td>\n",
       "      <td>9</td>\n",
       "      <td>2008</td>\n",
       "      <td>WD</td>\n",
       "      <td>Normal</td>\n",
       "      <td>223500</td>\n",
       "    </tr>\n",
       "    <tr>\n",
       "      <th>3</th>\n",
       "      <td>4</td>\n",
       "      <td>70</td>\n",
       "      <td>RL</td>\n",
       "      <td>60.0</td>\n",
       "      <td>9550</td>\n",
       "      <td>Pave</td>\n",
       "      <td>NaN</td>\n",
       "      <td>IR1</td>\n",
       "      <td>Lvl</td>\n",
       "      <td>AllPub</td>\n",
       "      <td>...</td>\n",
       "      <td>0</td>\n",
       "      <td>NaN</td>\n",
       "      <td>NaN</td>\n",
       "      <td>NaN</td>\n",
       "      <td>0</td>\n",
       "      <td>2</td>\n",
       "      <td>2006</td>\n",
       "      <td>WD</td>\n",
       "      <td>Abnorml</td>\n",
       "      <td>140000</td>\n",
       "    </tr>\n",
       "    <tr>\n",
       "      <th>4</th>\n",
       "      <td>5</td>\n",
       "      <td>60</td>\n",
       "      <td>RL</td>\n",
       "      <td>84.0</td>\n",
       "      <td>14260</td>\n",
       "      <td>Pave</td>\n",
       "      <td>NaN</td>\n",
       "      <td>IR1</td>\n",
       "      <td>Lvl</td>\n",
       "      <td>AllPub</td>\n",
       "      <td>...</td>\n",
       "      <td>0</td>\n",
       "      <td>NaN</td>\n",
       "      <td>NaN</td>\n",
       "      <td>NaN</td>\n",
       "      <td>0</td>\n",
       "      <td>12</td>\n",
       "      <td>2008</td>\n",
       "      <td>WD</td>\n",
       "      <td>Normal</td>\n",
       "      <td>250000</td>\n",
       "    </tr>\n",
       "  </tbody>\n",
       "</table>\n",
       "<p>5 rows × 81 columns</p>\n",
       "</div>"
      ],
      "text/plain": [
       "   Id  MSSubClass MSZoning  LotFrontage  LotArea Street Alley LotShape  \\\n",
       "0   1          60       RL         65.0     8450   Pave   NaN      Reg   \n",
       "1   2          20       RL         80.0     9600   Pave   NaN      Reg   \n",
       "2   3          60       RL         68.0    11250   Pave   NaN      IR1   \n",
       "3   4          70       RL         60.0     9550   Pave   NaN      IR1   \n",
       "4   5          60       RL         84.0    14260   Pave   NaN      IR1   \n",
       "\n",
       "  LandContour Utilities  ... PoolArea PoolQC Fence MiscFeature MiscVal MoSold  \\\n",
       "0         Lvl    AllPub  ...        0    NaN   NaN         NaN       0      2   \n",
       "1         Lvl    AllPub  ...        0    NaN   NaN         NaN       0      5   \n",
       "2         Lvl    AllPub  ...        0    NaN   NaN         NaN       0      9   \n",
       "3         Lvl    AllPub  ...        0    NaN   NaN         NaN       0      2   \n",
       "4         Lvl    AllPub  ...        0    NaN   NaN         NaN       0     12   \n",
       "\n",
       "  YrSold  SaleType  SaleCondition  SalePrice  \n",
       "0   2008        WD         Normal     208500  \n",
       "1   2007        WD         Normal     181500  \n",
       "2   2008        WD         Normal     223500  \n",
       "3   2006        WD        Abnorml     140000  \n",
       "4   2008        WD         Normal     250000  \n",
       "\n",
       "[5 rows x 81 columns]"
      ]
     },
     "execution_count": 5,
     "metadata": {},
     "output_type": "execute_result"
    }
   ],
   "source": [
    "df_train.head()"
   ]
  },
  {
   "cell_type": "code",
   "execution_count": 8,
   "metadata": {
    "collapsed": true
   },
   "outputs": [
    {
     "name": "stdout",
     "output_type": "stream",
     "text": [
      "<class 'pandas.core.frame.DataFrame'>\n",
      "RangeIndex: 1460 entries, 0 to 1459\n",
      "Data columns (total 81 columns):\n",
      " #   Column         Non-Null Count  Dtype  \n",
      "---  ------         --------------  -----  \n",
      " 0   Id             1460 non-null   int64  \n",
      " 1   MSSubClass     1460 non-null   int64  \n",
      " 2   MSZoning       1460 non-null   object \n",
      " 3   LotFrontage    1201 non-null   float64\n",
      " 4   LotArea        1460 non-null   int64  \n",
      " 5   Street         1460 non-null   object \n",
      " 6   Alley          91 non-null     object \n",
      " 7   LotShape       1460 non-null   object \n",
      " 8   LandContour    1460 non-null   object \n",
      " 9   Utilities      1460 non-null   object \n",
      " 10  LotConfig      1460 non-null   object \n",
      " 11  LandSlope      1460 non-null   object \n",
      " 12  Neighborhood   1460 non-null   object \n",
      " 13  Condition1     1460 non-null   object \n",
      " 14  Condition2     1460 non-null   object \n",
      " 15  BldgType       1460 non-null   object \n",
      " 16  HouseStyle     1460 non-null   object \n",
      " 17  OverallQual    1460 non-null   int64  \n",
      " 18  OverallCond    1460 non-null   int64  \n",
      " 19  YearBuilt      1460 non-null   int64  \n",
      " 20  YearRemodAdd   1460 non-null   int64  \n",
      " 21  RoofStyle      1460 non-null   object \n",
      " 22  RoofMatl       1460 non-null   object \n",
      " 23  Exterior1st    1460 non-null   object \n",
      " 24  Exterior2nd    1460 non-null   object \n",
      " 25  MasVnrType     1452 non-null   object \n",
      " 26  MasVnrArea     1452 non-null   float64\n",
      " 27  ExterQual      1460 non-null   object \n",
      " 28  ExterCond      1460 non-null   object \n",
      " 29  Foundation     1460 non-null   object \n",
      " 30  BsmtQual       1423 non-null   object \n",
      " 31  BsmtCond       1423 non-null   object \n",
      " 32  BsmtExposure   1422 non-null   object \n",
      " 33  BsmtFinType1   1423 non-null   object \n",
      " 34  BsmtFinSF1     1460 non-null   int64  \n",
      " 35  BsmtFinType2   1422 non-null   object \n",
      " 36  BsmtFinSF2     1460 non-null   int64  \n",
      " 37  BsmtUnfSF      1460 non-null   int64  \n",
      " 38  TotalBsmtSF    1460 non-null   int64  \n",
      " 39  Heating        1460 non-null   object \n",
      " 40  HeatingQC      1460 non-null   object \n",
      " 41  CentralAir     1460 non-null   object \n",
      " 42  Electrical     1459 non-null   object \n",
      " 43  1stFlrSF       1460 non-null   int64  \n",
      " 44  2ndFlrSF       1460 non-null   int64  \n",
      " 45  LowQualFinSF   1460 non-null   int64  \n",
      " 46  GrLivArea      1460 non-null   int64  \n",
      " 47  BsmtFullBath   1460 non-null   int64  \n",
      " 48  BsmtHalfBath   1460 non-null   int64  \n",
      " 49  FullBath       1460 non-null   int64  \n",
      " 50  HalfBath       1460 non-null   int64  \n",
      " 51  BedroomAbvGr   1460 non-null   int64  \n",
      " 52  KitchenAbvGr   1460 non-null   int64  \n",
      " 53  KitchenQual    1460 non-null   object \n",
      " 54  TotRmsAbvGrd   1460 non-null   int64  \n",
      " 55  Functional     1460 non-null   object \n",
      " 56  Fireplaces     1460 non-null   int64  \n",
      " 57  FireplaceQu    770 non-null    object \n",
      " 58  GarageType     1379 non-null   object \n",
      " 59  GarageYrBlt    1379 non-null   float64\n",
      " 60  GarageFinish   1379 non-null   object \n",
      " 61  GarageCars     1460 non-null   int64  \n",
      " 62  GarageArea     1460 non-null   int64  \n",
      " 63  GarageQual     1379 non-null   object \n",
      " 64  GarageCond     1379 non-null   object \n",
      " 65  PavedDrive     1460 non-null   object \n",
      " 66  WoodDeckSF     1460 non-null   int64  \n",
      " 67  OpenPorchSF    1460 non-null   int64  \n",
      " 68  EnclosedPorch  1460 non-null   int64  \n",
      " 69  3SsnPorch      1460 non-null   int64  \n",
      " 70  ScreenPorch    1460 non-null   int64  \n",
      " 71  PoolArea       1460 non-null   int64  \n",
      " 72  PoolQC         7 non-null      object \n",
      " 73  Fence          281 non-null    object \n",
      " 74  MiscFeature    54 non-null     object \n",
      " 75  MiscVal        1460 non-null   int64  \n",
      " 76  MoSold         1460 non-null   int64  \n",
      " 77  YrSold         1460 non-null   int64  \n",
      " 78  SaleType       1460 non-null   object \n",
      " 79  SaleCondition  1460 non-null   object \n",
      " 80  SalePrice      1460 non-null   int64  \n",
      "dtypes: float64(3), int64(35), object(43)\n",
      "memory usage: 924.0+ KB\n"
     ]
    }
   ],
   "source": [
    "df_train.info()"
   ]
  },
  {
   "cell_type": "markdown",
   "metadata": {},
   "source": [
    "The distribution of the output seems to have long tail. But since the metrics to evaluate is log value of RMSE, these points will not have very high effect on the model performance"
   ]
  },
  {
   "cell_type": "code",
   "execution_count": 9,
   "metadata": {},
   "outputs": [
    {
     "data": {
      "text/plain": [
       "<AxesSubplot:ylabel='Frequency'>"
      ]
     },
     "execution_count": 9,
     "metadata": {},
     "output_type": "execute_result"
    },
    {
     "data": {
      "image/png": "[encoded data removed]",
      "text/plain": [
       "<Figure size 432x288 with 1 Axes>"
      ]
     },
     "metadata": {
      "needs_background": "light"
     },
     "output_type": "display_data"
    }
   ],
   "source": [
    "df_train['SalePrice'].plot(kind = 'hist', bins = 50)"
   ]
  },
  {
   "cell_type": "code",
   "execution_count": 10,
   "metadata": {
    "scrolled": true
   },
   "outputs": [
    {
     "data": {
      "text/plain": [
       "SalePrice       1.000000\n",
       "OverallQual     0.790982\n",
       "GrLivArea       0.708624\n",
       "GarageCars      0.640409\n",
       "GarageArea      0.623431\n",
       "TotalBsmtSF     0.613581\n",
       "1stFlrSF        0.605852\n",
       "FullBath        0.560664\n",
       "TotRmsAbvGrd    0.533723\n",
       "YearBuilt       0.522897\n",
       "Name: SalePrice, dtype: float64"
      ]
     },
     "execution_count": 10,
     "metadata": {},
     "output_type": "execute_result"
    }
   ],
   "source": [
    "#looking at correlation \n",
    "df.corr()['SalePrice'].sort_values(ascending=False).head(10)"
   ]
  },
  {
   "cell_type": "code",
   "execution_count": 11,
   "metadata": {},
   "outputs": [
    {
     "data": {
      "text/plain": [
       "<AxesSubplot:>"
      ]
     },
     "execution_count": 11,
     "metadata": {},
     "output_type": "execute_result"
    },
    {
     "data": {
      "image/png": "[encoded data removed]",
      "text/plain": [
       "<Figure size 720x576 with 2 Axes>"
      ]
     },
     "metadata": {
      "needs_background": "light"
     },
     "output_type": "display_data"
    }
   ],
   "source": [
    "plt.figure(figsize= (10,8))\n",
    "sns.heatmap(df_train.corr(), cmap= 'coolwarm')"
   ]
  },
  {
   "cell_type": "markdown",
   "metadata": {},
   "source": [
    "# EDA & Imputing Null Values"
   ]
  },
  {
   "cell_type": "code",
   "execution_count": 12,
   "metadata": {},
   "outputs": [
    {
     "data": {
      "text/plain": [
       "(2919, 80)"
      ]
     },
     "execution_count": 12,
     "metadata": {},
     "output_type": "execute_result"
    }
   ],
   "source": [
    "# combining train and test values\n",
    "data = pd.concat((df_train, df_test)).reset_index(drop=True)\n",
    "x_saleprice = df_train[\"SalePrice\"]\n",
    "data.drop([\"SalePrice\"], axis = 1, inplace= True)\n",
    "data.shape"
   ]
  },
  {
   "cell_type": "code",
   "execution_count": 13,
   "metadata": {},
   "outputs": [
    {
     "data": {
      "text/plain": [
       "<AxesSubplot:>"
      ]
     },
     "execution_count": 13,
     "metadata": {},
     "output_type": "execute_result"
    },
    {
     "data": {
      "image/png": "[encoded data removed]",
      "text/plain": [
       "<Figure size 432x288 with 2 Axes>"
      ]
     },
     "metadata": {
      "needs_background": "light"
     },
     "output_type": "display_data"
    }
   ],
   "source": [
    "sns.heatmap(data.isna(), yticklabels= False)"
   ]
  },
  {
   "cell_type": "code",
   "execution_count": 15,
   "metadata": {},
   "outputs": [
    {
     "data": {
      "text/plain": [
       "PoolQC          99.657417\n",
       "MiscFeature     96.402878\n",
       "Alley           93.216855\n",
       "Fence           80.438506\n",
       "FireplaceQu     48.646797\n",
       "LotFrontage     16.649538\n",
       "GarageYrBlt      5.447071\n",
       "GarageFinish     5.447071\n",
       "GarageQual       5.447071\n",
       "GarageCond       5.447071\n",
       "dtype: float64"
      ]
     },
     "execution_count": 15,
     "metadata": {},
     "output_type": "execute_result"
    }
   ],
   "source": [
    "#percent null values\n",
    "((data.isnull().sum().sort_values(ascending = False) *100) / data.shape[0]).head(10)"
   ]
  },
  {
   "cell_type": "markdown",
   "metadata": {},
   "source": [
    "## Pool QC"
   ]
  },
  {
   "cell_type": "code",
   "execution_count": 16,
   "metadata": {},
   "outputs": [
    {
     "data": {
      "text/plain": [
       "Gd    4\n",
       "Ex    4\n",
       "Fa    2\n",
       "Name: PoolQC, dtype: int64"
      ]
     },
     "execution_count": 16,
     "metadata": {},
     "output_type": "execute_result"
    }
   ],
   "source": [
    "data['PoolQC'].value_counts()"
   ]
  },
  {
   "cell_type": "markdown",
   "metadata": {},
   "source": [
    "As observed, the absence of Pool QC implies there is no pool for the property and thus we will simply replace all null values to No as a category"
   ]
  },
  {
   "cell_type": "code",
   "execution_count": 17,
   "metadata": {},
   "outputs": [],
   "source": [
    "data['PoolQC'].fillna(\"NA\", inplace= True)"
   ]
  },
  {
   "cell_type": "markdown",
   "metadata": {},
   "source": [
    "## Misc Feature"
   ]
  },
  {
   "cell_type": "code",
   "execution_count": 18,
   "metadata": {},
   "outputs": [
    {
     "data": {
      "text/plain": [
       "Shed    95\n",
       "Gar2     5\n",
       "Othr     4\n",
       "TenC     1\n",
       "Name: MiscFeature, dtype: int64"
      ]
     },
     "execution_count": 18,
     "metadata": {},
     "output_type": "execute_result"
    }
   ],
   "source": [
    "data['MiscFeature'].value_counts()"
   ]
  },
  {
   "cell_type": "markdown",
   "metadata": {},
   "source": [
    "As observed, the absence of value in Misc Feature implies there is no feature for the property and thus we will simply replace all null values to No as a category"
   ]
  },
  {
   "cell_type": "code",
   "execution_count": 19,
   "metadata": {},
   "outputs": [],
   "source": [
    "data['MiscFeature'].fillna(\"NA\", inplace= True)"
   ]
  },
  {
   "cell_type": "markdown",
   "metadata": {},
   "source": [
    "## Alley"
   ]
  },
  {
   "cell_type": "code",
   "execution_count": 20,
   "metadata": {},
   "outputs": [
    {
     "data": {
      "text/plain": [
       "Grvl    120\n",
       "Pave     78\n",
       "Name: Alley, dtype: int64"
      ]
     },
     "execution_count": 20,
     "metadata": {},
     "output_type": "execute_result"
    }
   ],
   "source": [
    "data['Alley'].value_counts()"
   ]
  },
  {
   "cell_type": "markdown",
   "metadata": {},
   "source": [
    "As observed, the absence of value in Alley implies there is no alley for the property and thus we will simply replace all null values to No as a category"
   ]
  },
  {
   "cell_type": "code",
   "execution_count": 21,
   "metadata": {},
   "outputs": [],
   "source": [
    "data['Alley'].fillna(\"NA\", inplace=True)"
   ]
  },
  {
   "cell_type": "markdown",
   "metadata": {},
   "source": [
    "## Fence"
   ]
  },
  {
   "cell_type": "code",
   "execution_count": 22,
   "metadata": {},
   "outputs": [
    {
     "data": {
      "text/plain": [
       "MnPrv    329\n",
       "GdPrv    118\n",
       "GdWo     112\n",
       "MnWw      12\n",
       "Name: Fence, dtype: int64"
      ]
     },
     "execution_count": 22,
     "metadata": {},
     "output_type": "execute_result"
    }
   ],
   "source": [
    "data['Fence'].value_counts()"
   ]
  },
  {
   "cell_type": "markdown",
   "metadata": {},
   "source": [
    "As observed, the absence of value in Fence implies there is no fence for the property and thus we will simply replace all null values to No as a category"
   ]
  },
  {
   "cell_type": "code",
   "execution_count": 23,
   "metadata": {},
   "outputs": [],
   "source": [
    "data['Fence'].fillna(\"NA\", inplace= True)"
   ]
  },
  {
   "cell_type": "markdown",
   "metadata": {},
   "source": [
    "## Fireplace QC"
   ]
  },
  {
   "cell_type": "code",
   "execution_count": 24,
   "metadata": {},
   "outputs": [
    {
     "data": {
      "text/plain": [
       "Gd    744\n",
       "TA    592\n",
       "Fa     74\n",
       "Po     46\n",
       "Ex     43\n",
       "Name: FireplaceQu, dtype: int64"
      ]
     },
     "execution_count": 24,
     "metadata": {},
     "output_type": "execute_result"
    }
   ],
   "source": [
    "data['FireplaceQu'].value_counts()"
   ]
  },
  {
   "cell_type": "markdown",
   "metadata": {},
   "source": [
    "As observed, the absence of value in Fireplace QC implies there is no fireplace for the property and thus we will simply replace all null values to No as a category"
   ]
  },
  {
   "cell_type": "code",
   "execution_count": 25,
   "metadata": {},
   "outputs": [],
   "source": [
    "data['FireplaceQu'].fillna(\"NA\", inplace= True)"
   ]
  },
  {
   "cell_type": "markdown",
   "metadata": {},
   "source": [
    "## Lot Frontage"
   ]
  },
  {
   "cell_type": "code",
   "execution_count": 26,
   "metadata": {},
   "outputs": [
    {
     "data": {
      "text/plain": [
       "LotFrontage    1.000000\n",
       "LotArea        0.489896\n",
       "1stFlrSF       0.458247\n",
       "GrLivArea      0.382462\n",
       "GarageArea     0.359786\n",
       "Name: LotFrontage, dtype: float64"
      ]
     },
     "execution_count": 26,
     "metadata": {},
     "output_type": "execute_result"
    }
   ],
   "source": [
    "data.corr()['LotFrontage'].sort_values(ascending = False).nlargest(5)"
   ]
  },
  {
   "cell_type": "markdown",
   "metadata": {},
   "source": [
    "It appears that the frontage has high correaltion with Lot area. We will try to intrepret the missing values from this data"
   ]
  },
  {
   "cell_type": "code",
   "execution_count": 27,
   "metadata": {},
   "outputs": [
    {
     "data": {
      "text/plain": [
       "<matplotlib.collections.PathCollection at 0x1cb0b2d2b50>"
      ]
     },
     "execution_count": 27,
     "metadata": {},
     "output_type": "execute_result"
    },
    {
     "data": {
      "image/png": "[encoded data removed]",
      "text/plain": [
       "<Figure size 576x360 with 1 Axes>"
      ]
     },
     "metadata": {
      "needs_background": "light"
     },
     "output_type": "display_data"
    }
   ],
   "source": [
    "x = data['LotFrontage']\n",
    "y = data['LotArea']\n",
    "indices = x.between(x.quantile(.05), x.quantile(.95))\n",
    "plt.figure(figsize=(8,5))\n",
    "plt.scatter(x[indices],y[indices])"
   ]
  },
  {
   "cell_type": "code",
   "execution_count": 28,
   "metadata": {},
   "outputs": [
    {
     "data": {
      "text/plain": [
       "<AxesSubplot:xlabel='LotConfig', ylabel='LotFrontage'>"
      ]
     },
     "execution_count": 28,
     "metadata": {},
     "output_type": "execute_result"
    },
    {
     "data": {
      "image/png": "[encoded data removed]",
      "text/plain": [
       "<Figure size 432x288 with 1 Axes>"
      ]
     },
     "metadata": {
      "needs_background": "light"
     },
     "output_type": "display_data"
    }
   ],
   "source": [
    "sns.boxplot(x = 'LotConfig', y = 'LotFrontage', data=data)"
   ]
  },
  {
   "cell_type": "code",
   "execution_count": 29,
   "metadata": {},
   "outputs": [
    {
     "data": {
      "text/html": [
       "<div>\n",
       "<style scoped>\n",
       "    .dataframe tbody tr th:only-of-type {\n",
       "        vertical-align: middle;\n",
       "    }\n",
       "\n",
       "    .dataframe tbody tr th {\n",
       "        vertical-align: top;\n",
       "    }\n",
       "\n",
       "    .dataframe thead th {\n",
       "        text-align: right;\n",
       "    }\n",
       "</style>\n",
       "<table border=\"1\" class=\"dataframe\">\n",
       "  <thead>\n",
       "    <tr style=\"text-align: right;\">\n",
       "      <th></th>\n",
       "      <th>Id</th>\n",
       "      <th>MSSubClass</th>\n",
       "      <th>MSZoning</th>\n",
       "      <th>LotFrontage</th>\n",
       "      <th>LotArea</th>\n",
       "      <th>Street</th>\n",
       "      <th>Alley</th>\n",
       "      <th>LotShape</th>\n",
       "      <th>LandContour</th>\n",
       "      <th>Utilities</th>\n",
       "      <th>...</th>\n",
       "      <th>ScreenPorch</th>\n",
       "      <th>PoolArea</th>\n",
       "      <th>PoolQC</th>\n",
       "      <th>Fence</th>\n",
       "      <th>MiscFeature</th>\n",
       "      <th>MiscVal</th>\n",
       "      <th>MoSold</th>\n",
       "      <th>YrSold</th>\n",
       "      <th>SaleType</th>\n",
       "      <th>SaleCondition</th>\n",
       "    </tr>\n",
       "  </thead>\n",
       "  <tbody>\n",
       "    <tr>\n",
       "      <th>7</th>\n",
       "      <td>8</td>\n",
       "      <td>60</td>\n",
       "      <td>RL</td>\n",
       "      <td>NaN</td>\n",
       "      <td>10382</td>\n",
       "      <td>Pave</td>\n",
       "      <td>NA</td>\n",
       "      <td>IR1</td>\n",
       "      <td>Lvl</td>\n",
       "      <td>AllPub</td>\n",
       "      <td>...</td>\n",
       "      <td>0</td>\n",
       "      <td>0</td>\n",
       "      <td>NA</td>\n",
       "      <td>NA</td>\n",
       "      <td>Shed</td>\n",
       "      <td>350</td>\n",
       "      <td>11</td>\n",
       "      <td>2009</td>\n",
       "      <td>WD</td>\n",
       "      <td>Normal</td>\n",
       "    </tr>\n",
       "    <tr>\n",
       "      <th>12</th>\n",
       "      <td>13</td>\n",
       "      <td>20</td>\n",
       "      <td>RL</td>\n",
       "      <td>NaN</td>\n",
       "      <td>12968</td>\n",
       "      <td>Pave</td>\n",
       "      <td>NA</td>\n",
       "      <td>IR2</td>\n",
       "      <td>Lvl</td>\n",
       "      <td>AllPub</td>\n",
       "      <td>...</td>\n",
       "      <td>176</td>\n",
       "      <td>0</td>\n",
       "      <td>NA</td>\n",
       "      <td>NA</td>\n",
       "      <td>NA</td>\n",
       "      <td>0</td>\n",
       "      <td>9</td>\n",
       "      <td>2008</td>\n",
       "      <td>WD</td>\n",
       "      <td>Normal</td>\n",
       "    </tr>\n",
       "    <tr>\n",
       "      <th>14</th>\n",
       "      <td>15</td>\n",
       "      <td>20</td>\n",
       "      <td>RL</td>\n",
       "      <td>NaN</td>\n",
       "      <td>10920</td>\n",
       "      <td>Pave</td>\n",
       "      <td>NA</td>\n",
       "      <td>IR1</td>\n",
       "      <td>Lvl</td>\n",
       "      <td>AllPub</td>\n",
       "      <td>...</td>\n",
       "      <td>0</td>\n",
       "      <td>0</td>\n",
       "      <td>NA</td>\n",
       "      <td>GdWo</td>\n",
       "      <td>NA</td>\n",
       "      <td>0</td>\n",
       "      <td>5</td>\n",
       "      <td>2008</td>\n",
       "      <td>WD</td>\n",
       "      <td>Normal</td>\n",
       "    </tr>\n",
       "  </tbody>\n",
       "</table>\n",
       "<p>3 rows × 80 columns</p>\n",
       "</div>"
      ],
      "text/plain": [
       "    Id  MSSubClass MSZoning  LotFrontage  LotArea Street Alley LotShape  \\\n",
       "7    8          60       RL          NaN    10382   Pave    NA      IR1   \n",
       "12  13          20       RL          NaN    12968   Pave    NA      IR2   \n",
       "14  15          20       RL          NaN    10920   Pave    NA      IR1   \n",
       "\n",
       "   LandContour Utilities  ... ScreenPorch PoolArea PoolQC Fence MiscFeature  \\\n",
       "7          Lvl    AllPub  ...           0        0     NA    NA        Shed   \n",
       "12         Lvl    AllPub  ...         176        0     NA    NA          NA   \n",
       "14         Lvl    AllPub  ...           0        0     NA  GdWo          NA   \n",
       "\n",
       "   MiscVal MoSold  YrSold  SaleType  SaleCondition  \n",
       "7      350     11    2009        WD         Normal  \n",
       "12       0      9    2008        WD         Normal  \n",
       "14       0      5    2008        WD         Normal  \n",
       "\n",
       "[3 rows x 80 columns]"
      ]
     },
     "execution_count": 29,
     "metadata": {},
     "output_type": "execute_result"
    }
   ],
   "source": [
    "data[data['LotFrontage'].isna()].head(3)"
   ]
  },
  {
   "cell_type": "code",
   "execution_count": 30,
   "metadata": {},
   "outputs": [
    {
     "data": {
      "text/plain": [
       "<AxesSubplot:xlabel='MSZoning', ylabel='LotFrontage'>"
      ]
     },
     "execution_count": 30,
     "metadata": {},
     "output_type": "execute_result"
    },
    {
     "data": {
      "image/png": "[encoded data removed]",
      "text/plain": [
       "<Figure size 432x288 with 1 Axes>"
      ]
     },
     "metadata": {
      "needs_background": "light"
     },
     "output_type": "display_data"
    }
   ],
   "source": [
    "sns.boxplot(x = 'MSZoning', y = 'LotFrontage', data=data)"
   ]
  },
  {
   "cell_type": "markdown",
   "metadata": {},
   "source": [
    "As we are not able to find any other parameter which might have high correlation, we will impute values to median value"
   ]
  },
  {
   "cell_type": "code",
   "execution_count": 31,
   "metadata": {},
   "outputs": [
    {
     "name": "stdout",
     "output_type": "stream",
     "text": [
      "68.0\n"
     ]
    }
   ],
   "source": [
    "median = data['LotFrontage'].median()\n",
    "data['LotFrontage'].fillna(median, inplace=True)\n",
    "print(median)"
   ]
  },
  {
   "cell_type": "markdown",
   "metadata": {},
   "source": [
    "## Garage Features"
   ]
  },
  {
   "cell_type": "markdown",
   "metadata": {},
   "source": [
    "GarageCond ; GarageYrBlt ;GarageFinish ;GarageQual ;GarageType"
   ]
  },
  {
   "cell_type": "code",
   "execution_count": 32,
   "metadata": {},
   "outputs": [
    {
     "data": {
      "text/plain": [
       "2126    Detchd\n",
       "2576    Detchd\n",
       "Name: GarageType, dtype: object"
      ]
     },
     "execution_count": 32,
     "metadata": {},
     "output_type": "execute_result"
    }
   ],
   "source": [
    "data[data['GarageType'].notna() & data['GarageCond'].isna()]['GarageType']"
   ]
  },
  {
   "cell_type": "markdown",
   "metadata": {},
   "source": [
    "All the Garage related features exhibit similar characterstics i.e., haivng na value when there is no garage. We will impute the value No to all except Garaege Year Blt where we will make it zero as it highly punishes the variable for not having the garage"
   ]
  },
  {
   "cell_type": "code",
   "execution_count": 33,
   "metadata": {},
   "outputs": [
    {
     "data": {
      "text/plain": [
       "<AxesSubplot:ylabel='Frequency'>"
      ]
     },
     "execution_count": 33,
     "metadata": {},
     "output_type": "execute_result"
    },
    {
     "data": {
      "image/png": "[encoded data removed]",
      "text/plain": [
       "<Figure size 432x288 with 1 Axes>"
      ]
     },
     "metadata": {
      "needs_background": "light"
     },
     "output_type": "display_data"
    }
   ],
   "source": [
    "data['GarageYrBlt'].plot(kind = 'hist', bins = 30)"
   ]
  },
  {
   "cell_type": "code",
   "execution_count": 34,
   "metadata": {},
   "outputs": [
    {
     "data": {
      "text/plain": [
       "<AxesSubplot:ylabel='Frequency'>"
      ]
     },
     "execution_count": 34,
     "metadata": {},
     "output_type": "execute_result"
    },
    {
     "data": {
      "image/png": "[encoded data removed]",
      "text/plain": [
       "<Figure size 432x288 with 1 Axes>"
      ]
     },
     "metadata": {
      "needs_background": "light"
     },
     "output_type": "display_data"
    }
   ],
   "source": [
    "data['GarageArea'].plot(kind = 'hist', bins = 30)"
   ]
  },
  {
   "cell_type": "markdown",
   "metadata": {},
   "source": [
    "This proves we have records with no garage"
   ]
  },
  {
   "cell_type": "code",
   "execution_count": 35,
   "metadata": {},
   "outputs": [],
   "source": [
    "data['GarageCond'].fillna('NA', inplace= True)\n",
    "data['GarageFinish'].fillna('NA', inplace= True)\n",
    "data['GarageQual'].fillna('NA', inplace= True)\n",
    "data['GarageType'].fillna('NA', inplace= True)\n",
    "data['GarageYrBlt'].fillna(0, inplace= True)"
   ]
  },
  {
   "cell_type": "markdown",
   "metadata": {},
   "source": [
    "## Basement"
   ]
  },
  {
   "cell_type": "markdown",
   "metadata": {},
   "source": [
    "BsmtExposure    82\n",
    ";BsmtCond        82\n",
    ";BsmtQual        81\n",
    ";BsmtFinType2    80\n",
    ";BsmtFinType1"
   ]
  },
  {
   "cell_type": "code",
   "execution_count": 36,
   "metadata": {},
   "outputs": [],
   "source": [
    "data['BsmtExposure'].fillna('NA', inplace= True)\n",
    "data['BsmtCond'].fillna('NA', inplace= True)\n",
    "data['BsmtQual'].fillna('NA', inplace= True)\n",
    "data['BsmtFinType1'].fillna('NA', inplace= True)\n",
    "data['BsmtFinType2'].fillna('NA', inplace= True)"
   ]
  },
  {
   "cell_type": "markdown",
   "metadata": {},
   "source": [
    "## Masonary"
   ]
  },
  {
   "cell_type": "markdown",
   "metadata": {},
   "source": [
    "MasVnrType      24\n",
    "; MasVnrArea      23"
   ]
  },
  {
   "cell_type": "code",
   "execution_count": 37,
   "metadata": {},
   "outputs": [
    {
     "data": {
      "text/plain": [
       "None       1742\n",
       "BrkFace     879\n",
       "Stone       249\n",
       "BrkCmn       25\n",
       "Name: MasVnrType, dtype: int64"
      ]
     },
     "execution_count": 37,
     "metadata": {},
     "output_type": "execute_result"
    }
   ],
   "source": [
    "data['MasVnrType'].value_counts()"
   ]
  },
  {
   "cell_type": "code",
   "execution_count": 38,
   "metadata": {},
   "outputs": [
    {
     "data": {
      "text/plain": [
       "<AxesSubplot:ylabel='Frequency'>"
      ]
     },
     "execution_count": 38,
     "metadata": {},
     "output_type": "execute_result"
    },
    {
     "data": {
      "image/png": "[encoded data removed]",
      "text/plain": [
       "<Figure size 432x288 with 1 Axes>"
      ]
     },
     "metadata": {
      "needs_background": "light"
     },
     "output_type": "display_data"
    }
   ],
   "source": [
    "data['MasVnrArea'].plot(kind = 'hist', bins = 50)"
   ]
  },
  {
   "cell_type": "code",
   "execution_count": 39,
   "metadata": {},
   "outputs": [],
   "source": [
    "data['MasVnrType'].fillna('None', inplace= True)\n",
    "data['MasVnrArea'].fillna(0, inplace= True)"
   ]
  },
  {
   "cell_type": "markdown",
   "metadata": {},
   "source": [
    "## Other"
   ]
  },
  {
   "cell_type": "code",
   "execution_count": 40,
   "metadata": {},
   "outputs": [],
   "source": [
    "data['MSZoning'].fillna(data['MSZoning'].mode()[0], inplace= True)\n",
    "data['Functional'].fillna(data['Functional'].mode()[0], inplace= True)\n",
    "data['BsmtHalfBath'].fillna(data['BsmtHalfBath'].mode()[0], inplace= True)\n",
    "data['BsmtFullBath'].fillna(data['BsmtFullBath'].mode()[0], inplace= True)\n",
    "\n",
    "data['Utilities'].fillna(data['Utilities'].mode()[0], inplace= True)\n",
    "data['Electrical'].fillna(data['Electrical'].mode()[0], inplace= True)\n",
    "data['Exterior1st'].fillna(data['Exterior1st'].mode()[0], inplace= True)\n",
    "data['Exterior2nd'].fillna(data['Exterior2nd'].mode()[0], inplace= True)\n",
    "\n",
    "data['GarageCars'].fillna(data['GarageCars'].mode()[0], inplace= True)\n",
    "data['GarageArea'].fillna(data['GarageArea'].mode()[0], inplace= True)\n",
    "data['KitchenQual'].fillna(data['KitchenQual'].mode()[0], inplace= True)\n",
    "data['BsmtFinSF1'].fillna(data['BsmtFinSF1'].mode()[0], inplace= True)\n",
    "\n",
    "data['SaleType'].fillna(data['SaleType'].mode()[0], inplace= True)\n",
    "data['TotalBsmtSF'].fillna(data['TotalBsmtSF'].mode()[0], inplace= True)\n",
    "data['BsmtUnfSF'].fillna(data['BsmtUnfSF'].mode()[0], inplace= True)\n",
    "data['BsmtFinSF2'].fillna(data['BsmtFinSF2'].mode()[0], inplace= True)\n"
   ]
  },
  {
   "cell_type": "markdown",
   "metadata": {},
   "source": [
    "## Using Label Encoder"
   ]
  },
  {
   "cell_type": "code",
   "execution_count": 41,
   "metadata": {},
   "outputs": [],
   "source": [
    "categorical_columns = data.select_dtypes(include= ['object']).columns"
   ]
  },
  {
   "cell_type": "code",
   "execution_count": 42,
   "metadata": {},
   "outputs": [],
   "source": [
    "from sklearn.preprocessing import LabelEncoder"
   ]
  },
  {
   "cell_type": "code",
   "execution_count": 43,
   "metadata": {},
   "outputs": [],
   "source": [
    "encoder = LabelEncoder()"
   ]
  },
  {
   "cell_type": "code",
   "execution_count": 44,
   "metadata": {},
   "outputs": [],
   "source": [
    "for col in categorical_columns :\n",
    "    data[col] = encoder.fit_transform(data[col].astype(str))"
   ]
  },
  {
   "cell_type": "code",
   "execution_count": 45,
   "metadata": {},
   "outputs": [
    {
     "data": {
      "text/html": [
       "<div>\n",
       "<style scoped>\n",
       "    .dataframe tbody tr th:only-of-type {\n",
       "        vertical-align: middle;\n",
       "    }\n",
       "\n",
       "    .dataframe tbody tr th {\n",
       "        vertical-align: top;\n",
       "    }\n",
       "\n",
       "    .dataframe thead th {\n",
       "        text-align: right;\n",
       "    }\n",
       "</style>\n",
       "<table border=\"1\" class=\"dataframe\">\n",
       "  <thead>\n",
       "    <tr style=\"text-align: right;\">\n",
       "      <th></th>\n",
       "      <th>Id</th>\n",
       "      <th>MSSubClass</th>\n",
       "      <th>MSZoning</th>\n",
       "      <th>LotFrontage</th>\n",
       "      <th>LotArea</th>\n",
       "      <th>Street</th>\n",
       "      <th>Alley</th>\n",
       "      <th>LotShape</th>\n",
       "      <th>LandContour</th>\n",
       "      <th>Utilities</th>\n",
       "      <th>...</th>\n",
       "      <th>ScreenPorch</th>\n",
       "      <th>PoolArea</th>\n",
       "      <th>PoolQC</th>\n",
       "      <th>Fence</th>\n",
       "      <th>MiscFeature</th>\n",
       "      <th>MiscVal</th>\n",
       "      <th>MoSold</th>\n",
       "      <th>YrSold</th>\n",
       "      <th>SaleType</th>\n",
       "      <th>SaleCondition</th>\n",
       "    </tr>\n",
       "  </thead>\n",
       "  <tbody>\n",
       "    <tr>\n",
       "      <th>0</th>\n",
       "      <td>1</td>\n",
       "      <td>60</td>\n",
       "      <td>3</td>\n",
       "      <td>65.0</td>\n",
       "      <td>8450</td>\n",
       "      <td>1</td>\n",
       "      <td>1</td>\n",
       "      <td>3</td>\n",
       "      <td>3</td>\n",
       "      <td>0</td>\n",
       "      <td>...</td>\n",
       "      <td>0</td>\n",
       "      <td>0</td>\n",
       "      <td>3</td>\n",
       "      <td>4</td>\n",
       "      <td>1</td>\n",
       "      <td>0</td>\n",
       "      <td>2</td>\n",
       "      <td>2008</td>\n",
       "      <td>8</td>\n",
       "      <td>4</td>\n",
       "    </tr>\n",
       "    <tr>\n",
       "      <th>1</th>\n",
       "      <td>2</td>\n",
       "      <td>20</td>\n",
       "      <td>3</td>\n",
       "      <td>80.0</td>\n",
       "      <td>9600</td>\n",
       "      <td>1</td>\n",
       "      <td>1</td>\n",
       "      <td>3</td>\n",
       "      <td>3</td>\n",
       "      <td>0</td>\n",
       "      <td>...</td>\n",
       "      <td>0</td>\n",
       "      <td>0</td>\n",
       "      <td>3</td>\n",
       "      <td>4</td>\n",
       "      <td>1</td>\n",
       "      <td>0</td>\n",
       "      <td>5</td>\n",
       "      <td>2007</td>\n",
       "      <td>8</td>\n",
       "      <td>4</td>\n",
       "    </tr>\n",
       "    <tr>\n",
       "      <th>2</th>\n",
       "      <td>3</td>\n",
       "      <td>60</td>\n",
       "      <td>3</td>\n",
       "      <td>68.0</td>\n",
       "      <td>11250</td>\n",
       "      <td>1</td>\n",
       "      <td>1</td>\n",
       "      <td>0</td>\n",
       "      <td>3</td>\n",
       "      <td>0</td>\n",
       "      <td>...</td>\n",
       "      <td>0</td>\n",
       "      <td>0</td>\n",
       "      <td>3</td>\n",
       "      <td>4</td>\n",
       "      <td>1</td>\n",
       "      <td>0</td>\n",
       "      <td>9</td>\n",
       "      <td>2008</td>\n",
       "      <td>8</td>\n",
       "      <td>4</td>\n",
       "    </tr>\n",
       "  </tbody>\n",
       "</table>\n",
       "<p>3 rows × 80 columns</p>\n",
       "</div>"
      ],
      "text/plain": [
       "   Id  MSSubClass  MSZoning  LotFrontage  LotArea  Street  Alley  LotShape  \\\n",
       "0   1          60         3         65.0     8450       1      1         3   \n",
       "1   2          20         3         80.0     9600       1      1         3   \n",
       "2   3          60         3         68.0    11250       1      1         0   \n",
       "\n",
       "   LandContour  Utilities  ...  ScreenPorch  PoolArea  PoolQC  Fence  \\\n",
       "0            3          0  ...            0         0       3      4   \n",
       "1            3          0  ...            0         0       3      4   \n",
       "2            3          0  ...            0         0       3      4   \n",
       "\n",
       "   MiscFeature  MiscVal  MoSold  YrSold  SaleType  SaleCondition  \n",
       "0            1        0       2    2008         8              4  \n",
       "1            1        0       5    2007         8              4  \n",
       "2            1        0       9    2008         8              4  \n",
       "\n",
       "[3 rows x 80 columns]"
      ]
     },
     "execution_count": 45,
     "metadata": {},
     "output_type": "execute_result"
    }
   ],
   "source": [
    "data.head(3)"
   ]
  },
  {
   "cell_type": "code",
   "execution_count": 46,
   "metadata": {},
   "outputs": [
    {
     "data": {
      "text/plain": [
       "(2919, 80)"
      ]
     },
     "execution_count": 46,
     "metadata": {},
     "output_type": "execute_result"
    }
   ],
   "source": [
    "data.shape"
   ]
  },
  {
   "cell_type": "markdown",
   "metadata": {},
   "source": [
    "# Creating Train & Test Datasets"
   ]
  },
  {
   "cell_type": "code",
   "execution_count": 52,
   "metadata": {},
   "outputs": [],
   "source": [
    "train_df = data.iloc[:1460,:]  \n",
    "train_df['SalePrice'] = x_saleprice\n",
    "test_df = data.iloc[1460 :,:]  "
   ]
  },
  {
   "cell_type": "code",
   "execution_count": 53,
   "metadata": {},
   "outputs": [
    {
     "data": {
      "text/html": [
       "<div>\n",
       "<style scoped>\n",
       "    .dataframe tbody tr th:only-of-type {\n",
       "        vertical-align: middle;\n",
       "    }\n",
       "\n",
       "    .dataframe tbody tr th {\n",
       "        vertical-align: top;\n",
       "    }\n",
       "\n",
       "    .dataframe thead th {\n",
       "        text-align: right;\n",
       "    }\n",
       "</style>\n",
       "<table border=\"1\" class=\"dataframe\">\n",
       "  <thead>\n",
       "    <tr style=\"text-align: right;\">\n",
       "      <th></th>\n",
       "      <th>Id</th>\n",
       "      <th>MSSubClass</th>\n",
       "      <th>MSZoning</th>\n",
       "      <th>LotFrontage</th>\n",
       "      <th>LotArea</th>\n",
       "      <th>Street</th>\n",
       "      <th>Alley</th>\n",
       "      <th>LotShape</th>\n",
       "      <th>LandContour</th>\n",
       "      <th>Utilities</th>\n",
       "      <th>...</th>\n",
       "      <th>PoolArea</th>\n",
       "      <th>PoolQC</th>\n",
       "      <th>Fence</th>\n",
       "      <th>MiscFeature</th>\n",
       "      <th>MiscVal</th>\n",
       "      <th>MoSold</th>\n",
       "      <th>YrSold</th>\n",
       "      <th>SaleType</th>\n",
       "      <th>SaleCondition</th>\n",
       "      <th>SalePrice</th>\n",
       "    </tr>\n",
       "  </thead>\n",
       "  <tbody>\n",
       "    <tr>\n",
       "      <th>0</th>\n",
       "      <td>1</td>\n",
       "      <td>60</td>\n",
       "      <td>3</td>\n",
       "      <td>65.0</td>\n",
       "      <td>8450</td>\n",
       "      <td>1</td>\n",
       "      <td>1</td>\n",
       "      <td>3</td>\n",
       "      <td>3</td>\n",
       "      <td>0</td>\n",
       "      <td>...</td>\n",
       "      <td>0</td>\n",
       "      <td>3</td>\n",
       "      <td>4</td>\n",
       "      <td>1</td>\n",
       "      <td>0</td>\n",
       "      <td>2</td>\n",
       "      <td>2008</td>\n",
       "      <td>8</td>\n",
       "      <td>4</td>\n",
       "      <td>208500</td>\n",
       "    </tr>\n",
       "    <tr>\n",
       "      <th>1</th>\n",
       "      <td>2</td>\n",
       "      <td>20</td>\n",
       "      <td>3</td>\n",
       "      <td>80.0</td>\n",
       "      <td>9600</td>\n",
       "      <td>1</td>\n",
       "      <td>1</td>\n",
       "      <td>3</td>\n",
       "      <td>3</td>\n",
       "      <td>0</td>\n",
       "      <td>...</td>\n",
       "      <td>0</td>\n",
       "      <td>3</td>\n",
       "      <td>4</td>\n",
       "      <td>1</td>\n",
       "      <td>0</td>\n",
       "      <td>5</td>\n",
       "      <td>2007</td>\n",
       "      <td>8</td>\n",
       "      <td>4</td>\n",
       "      <td>181500</td>\n",
       "    </tr>\n",
       "    <tr>\n",
       "      <th>2</th>\n",
       "      <td>3</td>\n",
       "      <td>60</td>\n",
       "      <td>3</td>\n",
       "      <td>68.0</td>\n",
       "      <td>11250</td>\n",
       "      <td>1</td>\n",
       "      <td>1</td>\n",
       "      <td>0</td>\n",
       "      <td>3</td>\n",
       "      <td>0</td>\n",
       "      <td>...</td>\n",
       "      <td>0</td>\n",
       "      <td>3</td>\n",
       "      <td>4</td>\n",
       "      <td>1</td>\n",
       "      <td>0</td>\n",
       "      <td>9</td>\n",
       "      <td>2008</td>\n",
       "      <td>8</td>\n",
       "      <td>4</td>\n",
       "      <td>223500</td>\n",
       "    </tr>\n",
       "    <tr>\n",
       "      <th>3</th>\n",
       "      <td>4</td>\n",
       "      <td>70</td>\n",
       "      <td>3</td>\n",
       "      <td>60.0</td>\n",
       "      <td>9550</td>\n",
       "      <td>1</td>\n",
       "      <td>1</td>\n",
       "      <td>0</td>\n",
       "      <td>3</td>\n",
       "      <td>0</td>\n",
       "      <td>...</td>\n",
       "      <td>0</td>\n",
       "      <td>3</td>\n",
       "      <td>4</td>\n",
       "      <td>1</td>\n",
       "      <td>0</td>\n",
       "      <td>2</td>\n",
       "      <td>2006</td>\n",
       "      <td>8</td>\n",
       "      <td>0</td>\n",
       "      <td>140000</td>\n",
       "    </tr>\n",
       "    <tr>\n",
       "      <th>4</th>\n",
       "      <td>5</td>\n",
       "      <td>60</td>\n",
       "      <td>3</td>\n",
       "      <td>84.0</td>\n",
       "      <td>14260</td>\n",
       "      <td>1</td>\n",
       "      <td>1</td>\n",
       "      <td>0</td>\n",
       "      <td>3</td>\n",
       "      <td>0</td>\n",
       "      <td>...</td>\n",
       "      <td>0</td>\n",
       "      <td>3</td>\n",
       "      <td>4</td>\n",
       "      <td>1</td>\n",
       "      <td>0</td>\n",
       "      <td>12</td>\n",
       "      <td>2008</td>\n",
       "      <td>8</td>\n",
       "      <td>4</td>\n",
       "      <td>250000</td>\n",
       "    </tr>\n",
       "  </tbody>\n",
       "</table>\n",
       "<p>5 rows × 81 columns</p>\n",
       "</div>"
      ],
      "text/plain": [
       "   Id  MSSubClass  MSZoning  LotFrontage  LotArea  Street  Alley  LotShape  \\\n",
       "0   1          60         3         65.0     8450       1      1         3   \n",
       "1   2          20         3         80.0     9600       1      1         3   \n",
       "2   3          60         3         68.0    11250       1      1         0   \n",
       "3   4          70         3         60.0     9550       1      1         0   \n",
       "4   5          60         3         84.0    14260       1      1         0   \n",
       "\n",
       "   LandContour  Utilities  ...  PoolArea  PoolQC  Fence  MiscFeature  MiscVal  \\\n",
       "0            3          0  ...         0       3      4            1        0   \n",
       "1            3          0  ...         0       3      4            1        0   \n",
       "2            3          0  ...         0       3      4            1        0   \n",
       "3            3          0  ...         0       3      4            1        0   \n",
       "4            3          0  ...         0       3      4            1        0   \n",
       "\n",
       "   MoSold  YrSold  SaleType  SaleCondition  SalePrice  \n",
       "0       2    2008         8              4     208500  \n",
       "1       5    2007         8              4     181500  \n",
       "2       9    2008         8              4     223500  \n",
       "3       2    2006         8              0     140000  \n",
       "4      12    2008         8              4     250000  \n",
       "\n",
       "[5 rows x 81 columns]"
      ]
     },
     "execution_count": 53,
     "metadata": {},
     "output_type": "execute_result"
    }
   ],
   "source": [
    "train_df.head()"
   ]
  },
  {
   "cell_type": "code",
   "execution_count": 54,
   "metadata": {},
   "outputs": [
    {
     "data": {
      "text/html": [
       "<div>\n",
       "<style scoped>\n",
       "    .dataframe tbody tr th:only-of-type {\n",
       "        vertical-align: middle;\n",
       "    }\n",
       "\n",
       "    .dataframe tbody tr th {\n",
       "        vertical-align: top;\n",
       "    }\n",
       "\n",
       "    .dataframe thead th {\n",
       "        text-align: right;\n",
       "    }\n",
       "</style>\n",
       "<table border=\"1\" class=\"dataframe\">\n",
       "  <thead>\n",
       "    <tr style=\"text-align: right;\">\n",
       "      <th></th>\n",
       "      <th>Id</th>\n",
       "      <th>MSSubClass</th>\n",
       "      <th>MSZoning</th>\n",
       "      <th>LotFrontage</th>\n",
       "      <th>LotArea</th>\n",
       "      <th>Street</th>\n",
       "      <th>Alley</th>\n",
       "      <th>LotShape</th>\n",
       "      <th>LandContour</th>\n",
       "      <th>Utilities</th>\n",
       "      <th>...</th>\n",
       "      <th>ScreenPorch</th>\n",
       "      <th>PoolArea</th>\n",
       "      <th>PoolQC</th>\n",
       "      <th>Fence</th>\n",
       "      <th>MiscFeature</th>\n",
       "      <th>MiscVal</th>\n",
       "      <th>MoSold</th>\n",
       "      <th>YrSold</th>\n",
       "      <th>SaleType</th>\n",
       "      <th>SaleCondition</th>\n",
       "    </tr>\n",
       "  </thead>\n",
       "  <tbody>\n",
       "    <tr>\n",
       "      <th>1460</th>\n",
       "      <td>1461</td>\n",
       "      <td>20</td>\n",
       "      <td>2</td>\n",
       "      <td>80.0</td>\n",
       "      <td>11622</td>\n",
       "      <td>1</td>\n",
       "      <td>1</td>\n",
       "      <td>3</td>\n",
       "      <td>3</td>\n",
       "      <td>0</td>\n",
       "      <td>...</td>\n",
       "      <td>120</td>\n",
       "      <td>0</td>\n",
       "      <td>3</td>\n",
       "      <td>2</td>\n",
       "      <td>1</td>\n",
       "      <td>0</td>\n",
       "      <td>6</td>\n",
       "      <td>2010</td>\n",
       "      <td>8</td>\n",
       "      <td>4</td>\n",
       "    </tr>\n",
       "    <tr>\n",
       "      <th>1461</th>\n",
       "      <td>1462</td>\n",
       "      <td>20</td>\n",
       "      <td>3</td>\n",
       "      <td>81.0</td>\n",
       "      <td>14267</td>\n",
       "      <td>1</td>\n",
       "      <td>1</td>\n",
       "      <td>0</td>\n",
       "      <td>3</td>\n",
       "      <td>0</td>\n",
       "      <td>...</td>\n",
       "      <td>0</td>\n",
       "      <td>0</td>\n",
       "      <td>3</td>\n",
       "      <td>4</td>\n",
       "      <td>0</td>\n",
       "      <td>12500</td>\n",
       "      <td>6</td>\n",
       "      <td>2010</td>\n",
       "      <td>8</td>\n",
       "      <td>4</td>\n",
       "    </tr>\n",
       "    <tr>\n",
       "      <th>1462</th>\n",
       "      <td>1463</td>\n",
       "      <td>60</td>\n",
       "      <td>3</td>\n",
       "      <td>74.0</td>\n",
       "      <td>13830</td>\n",
       "      <td>1</td>\n",
       "      <td>1</td>\n",
       "      <td>0</td>\n",
       "      <td>3</td>\n",
       "      <td>0</td>\n",
       "      <td>...</td>\n",
       "      <td>0</td>\n",
       "      <td>0</td>\n",
       "      <td>3</td>\n",
       "      <td>2</td>\n",
       "      <td>1</td>\n",
       "      <td>0</td>\n",
       "      <td>3</td>\n",
       "      <td>2010</td>\n",
       "      <td>8</td>\n",
       "      <td>4</td>\n",
       "    </tr>\n",
       "    <tr>\n",
       "      <th>1463</th>\n",
       "      <td>1464</td>\n",
       "      <td>60</td>\n",
       "      <td>3</td>\n",
       "      <td>78.0</td>\n",
       "      <td>9978</td>\n",
       "      <td>1</td>\n",
       "      <td>1</td>\n",
       "      <td>0</td>\n",
       "      <td>3</td>\n",
       "      <td>0</td>\n",
       "      <td>...</td>\n",
       "      <td>0</td>\n",
       "      <td>0</td>\n",
       "      <td>3</td>\n",
       "      <td>4</td>\n",
       "      <td>1</td>\n",
       "      <td>0</td>\n",
       "      <td>6</td>\n",
       "      <td>2010</td>\n",
       "      <td>8</td>\n",
       "      <td>4</td>\n",
       "    </tr>\n",
       "    <tr>\n",
       "      <th>1464</th>\n",
       "      <td>1465</td>\n",
       "      <td>120</td>\n",
       "      <td>3</td>\n",
       "      <td>43.0</td>\n",
       "      <td>5005</td>\n",
       "      <td>1</td>\n",
       "      <td>1</td>\n",
       "      <td>0</td>\n",
       "      <td>1</td>\n",
       "      <td>0</td>\n",
       "      <td>...</td>\n",
       "      <td>144</td>\n",
       "      <td>0</td>\n",
       "      <td>3</td>\n",
       "      <td>4</td>\n",
       "      <td>1</td>\n",
       "      <td>0</td>\n",
       "      <td>1</td>\n",
       "      <td>2010</td>\n",
       "      <td>8</td>\n",
       "      <td>4</td>\n",
       "    </tr>\n",
       "  </tbody>\n",
       "</table>\n",
       "<p>5 rows × 80 columns</p>\n",
       "</div>"
      ],
      "text/plain": [
       "        Id  MSSubClass  MSZoning  LotFrontage  LotArea  Street  Alley  \\\n",
       "1460  1461          20         2         80.0    11622       1      1   \n",
       "1461  1462          20         3         81.0    14267       1      1   \n",
       "1462  1463          60         3         74.0    13830       1      1   \n",
       "1463  1464          60         3         78.0     9978       1      1   \n",
       "1464  1465         120         3         43.0     5005       1      1   \n",
       "\n",
       "      LotShape  LandContour  Utilities  ...  ScreenPorch  PoolArea  PoolQC  \\\n",
       "1460         3            3          0  ...          120         0       3   \n",
       "1461         0            3          0  ...            0         0       3   \n",
       "1462         0            3          0  ...            0         0       3   \n",
       "1463         0            3          0  ...            0         0       3   \n",
       "1464         0            1          0  ...          144         0       3   \n",
       "\n",
       "      Fence  MiscFeature  MiscVal  MoSold  YrSold  SaleType  SaleCondition  \n",
       "1460      2            1        0       6    2010         8              4  \n",
       "1461      4            0    12500       6    2010         8              4  \n",
       "1462      2            1        0       3    2010         8              4  \n",
       "1463      4            1        0       6    2010         8              4  \n",
       "1464      4            1        0       1    2010         8              4  \n",
       "\n",
       "[5 rows x 80 columns]"
      ]
     },
     "execution_count": 54,
     "metadata": {},
     "output_type": "execute_result"
    }
   ],
   "source": [
    "test_df.head()"
   ]
  },
  {
   "cell_type": "code",
   "execution_count": 55,
   "metadata": {},
   "outputs": [],
   "source": [
    "X_train = train_df.drop('SalePrice', axis=1)\n",
    "y_train = train_df['SalePrice']\n",
    "X_test = test_df"
   ]
  },
  {
   "cell_type": "markdown",
   "metadata": {},
   "source": [
    "# Modeling "
   ]
  },
  {
   "cell_type": "code",
   "execution_count": 56,
   "metadata": {},
   "outputs": [],
   "source": [
    "from sklearn.model_selection import cross_val_score, KFold\n",
    "from sklearn.metrics import make_scorer, mean_squared_log_error, r2_score\n",
    "\n",
    "n_folds = 5\n",
    "\n",
    "def evaluate_model(X_train,y_train, model) :\n",
    "    cv = KFold(n_splits= 5, shuffle= True, random_state= 42).get_n_splits(X_train.values)\n",
    "    msle = make_scorer(mean_squared_log_error)\n",
    "    rmsle = np.sqrt(cross_val_score(model, X_train, y_train, cv = cv, scoring= msle))\n",
    "    score_rmsle = [rmsle.mean()]\n",
    "    return score_rmsle\n"
   ]
  },
  {
   "cell_type": "markdown",
   "metadata": {},
   "source": [
    "## Linear Models"
   ]
  },
  {
   "cell_type": "markdown",
   "metadata": {},
   "source": [
    "Creating baseline scores using linear models with regularizations"
   ]
  },
  {
   "cell_type": "markdown",
   "metadata": {},
   "source": [
    "### Linear Regression"
   ]
  },
  {
   "cell_type": "code",
   "execution_count": 57,
   "metadata": {},
   "outputs": [
    {
     "data": {
      "text/plain": [
       "[0.17081948207488876]"
      ]
     },
     "execution_count": 57,
     "metadata": {},
     "output_type": "execute_result"
    }
   ],
   "source": [
    "linear_regression = LinearRegression()\n",
    "evaluate_model(X_train, y_train, linear_regression)"
   ]
  },
  {
   "cell_type": "markdown",
   "metadata": {},
   "source": [
    "### Lasso"
   ]
  },
  {
   "cell_type": "code",
   "execution_count": 67,
   "metadata": {},
   "outputs": [],
   "source": [
    "error_list_1 = []\n",
    "\n",
    "alpha= [0.01, 0.03, 0.1, 0.3, 1, 3,10,30,100, 300,1000,3000]\n",
    "\n",
    "for num, a in enumerate(alpha) :\n",
    "    lasso = Lasso(alpha=a, max_iter= 3000)\n",
    "    error_1 = evaluate_model(X_train, y_train, lasso)\n",
    "    error_list_1.append(error_1)"
   ]
  },
  {
   "cell_type": "code",
   "execution_count": 68,
   "metadata": {},
   "outputs": [
    {
     "data": {
      "text/plain": [
       "1000"
      ]
     },
     "execution_count": 68,
     "metadata": {},
     "output_type": "execute_result"
    }
   ],
   "source": [
    "#alpha value for minimum error\n",
    "alpha[error_list_1.index(min(error_list_1))]"
   ]
  },
  {
   "cell_type": "markdown",
   "metadata": {},
   "source": [
    "Lowest error value comes from alpha = 1000"
   ]
  },
  {
   "cell_type": "code",
   "execution_count": 69,
   "metadata": {},
   "outputs": [],
   "source": [
    "lasso = Lasso(alpha= 1000, max_iter=10000)"
   ]
  },
  {
   "cell_type": "code",
   "execution_count": 71,
   "metadata": {},
   "outputs": [
    {
     "data": {
      "text/plain": [
       "[0.15997578369023785]"
      ]
     },
     "execution_count": 71,
     "metadata": {},
     "output_type": "execute_result"
    }
   ],
   "source": [
    "evaluate_model(X_train, y_train, lasso)"
   ]
  },
  {
   "cell_type": "markdown",
   "metadata": {},
   "source": [
    "### Ridge"
   ]
  },
  {
   "cell_type": "code",
   "execution_count": 72,
   "metadata": {},
   "outputs": [],
   "source": [
    "from sklearn.linear_model import Ridge"
   ]
  },
  {
   "cell_type": "code",
   "execution_count": 73,
   "metadata": {},
   "outputs": [],
   "source": [
    "ridge = Ridge(alpha=500, copy_X=True, fit_intercept=True, max_iter=None, \n",
    "              normalize=False,  random_state=None, solver='auto', tol=0.001)"
   ]
  },
  {
   "cell_type": "code",
   "execution_count": 74,
   "metadata": {},
   "outputs": [
    {
     "data": {
      "text/plain": [
       "[0.16007628896081993]"
      ]
     },
     "execution_count": 74,
     "metadata": {},
     "output_type": "execute_result"
    }
   ],
   "source": [
    "evaluate_model(X_train, y_train, ridge)"
   ]
  },
  {
   "cell_type": "markdown",
   "metadata": {},
   "source": [
    "## Support Vector "
   ]
  },
  {
   "cell_type": "code",
   "execution_count": 75,
   "metadata": {},
   "outputs": [],
   "source": [
    "from sklearn.svm import SVR"
   ]
  },
  {
   "cell_type": "code",
   "execution_count": 83,
   "metadata": {},
   "outputs": [],
   "source": [
    "error_list = []\n",
    "C = np.logspace(start=-5, stop=5, num=10, base= 10)\n",
    "\n",
    "for c in C : \n",
    "    svr = SVR(C= c)\n",
    "    error_list.append(evaluate_model(X_train, y_train, svr))"
   ]
  },
  {
   "cell_type": "code",
   "execution_count": 84,
   "metadata": {},
   "outputs": [
    {
     "data": {
      "text/plain": [
       "100000.0"
      ]
     },
     "execution_count": 84,
     "metadata": {},
     "output_type": "execute_result"
    }
   ],
   "source": [
    "#value of C for minimum error\n",
    "C[error_list.index(min(error_list))]"
   ]
  },
  {
   "cell_type": "code",
   "execution_count": 85,
   "metadata": {},
   "outputs": [
    {
     "data": {
      "text/plain": [
       "[0.21153142666536065]"
      ]
     },
     "execution_count": 85,
     "metadata": {},
     "output_type": "execute_result"
    }
   ],
   "source": [
    "min(error_list)"
   ]
  },
  {
   "cell_type": "markdown",
   "metadata": {},
   "source": [
    "## Decision Tree"
   ]
  },
  {
   "cell_type": "code",
   "execution_count": 86,
   "metadata": {},
   "outputs": [],
   "source": [
    "from sklearn.tree import DecisionTreeRegressor"
   ]
  },
  {
   "cell_type": "code",
   "execution_count": 89,
   "metadata": {},
   "outputs": [],
   "source": [
    "depths= [int(x) for x in np.linspace(5,100,10)]\n",
    "error_list = []\n",
    "\n",
    "for depth in depths :\n",
    "    tree = DecisionTreeRegressor(max_depth= 5)\n",
    "    error_list.append(evaluate_model(X_train, y_train, tree))"
   ]
  },
  {
   "cell_type": "code",
   "execution_count": 90,
   "metadata": {},
   "outputs": [
    {
     "data": {
      "text/plain": [
       "36"
      ]
     },
     "execution_count": 90,
     "metadata": {},
     "output_type": "execute_result"
    }
   ],
   "source": [
    "#value of C for minimum error\n",
    "depths[error_list.index(min(error_list))]"
   ]
  },
  {
   "cell_type": "code",
   "execution_count": 91,
   "metadata": {},
   "outputs": [
    {
     "data": {
      "text/plain": [
       "[0.20516033438122414]"
      ]
     },
     "execution_count": 91,
     "metadata": {},
     "output_type": "execute_result"
    }
   ],
   "source": [
    "min(error_list)"
   ]
  },
  {
   "cell_type": "markdown",
   "metadata": {},
   "source": [
    "## LightGBM"
   ]
  },
  {
   "cell_type": "code",
   "execution_count": 97,
   "metadata": {},
   "outputs": [
    {
     "name": "stdout",
     "output_type": "stream",
     "text": [
      "(1022, 80)\n",
      "(438, 80)\n"
     ]
    }
   ],
   "source": [
    "from sklearn.model_selection import train_test_split\n",
    "\n",
    "X_train2, X_val2, y_train2, y_val2 = train_test_split(X_train, y_train, random_state= 42, test_size= 0.3)\n",
    "\n",
    "print(X_train2.shape)\n",
    "print(X_val2.shape)"
   ]
  },
  {
   "cell_type": "code",
   "execution_count": 103,
   "metadata": {
    "scrolled": true
   },
   "outputs": [
    {
     "name": "stderr",
     "output_type": "stream",
     "text": [
      "\u001b[32m[I 2021-07-24 22:40:50,561]\u001b[0m A new study created in memory with name: no-name-c2aba565-d562-4cfb-ac96-26dcb01bee85\u001b[0m\n",
      "\u001b[32m[I 2021-07-24 22:40:50,612]\u001b[0m Trial 0 finished with value: -0.026083100966854338 and parameters: {'num_leaves': 266, 'n_estimators': 64, 'max_depth': 64, 'learning_rate': 0.10784139059091633, 'min_child_samples': 124, 'reg_alpha': 0.07937628444712726, 'reg_lambda': 0.0026195191648553185, 'colsample_bytree': 0.5744360808579311, 'subsample': 0.502476975991675}. Best is trial 0 with value: -0.026083100966854338.\u001b[0m\n",
      "\u001b[32m[I 2021-07-24 22:40:50,650]\u001b[0m Trial 1 finished with value: -0.04977754081089545 and parameters: {'num_leaves': 221, 'n_estimators': 70, 'max_depth': 27, 'learning_rate': 0.4615688981845972, 'min_child_samples': 482, 'reg_alpha': 0.23454335752652844, 'reg_lambda': 0.004846772543257154, 'colsample_bytree': 0.8635364331724156, 'subsample': 0.4875115397652148}. Best is trial 0 with value: -0.026083100966854338.\u001b[0m\n",
      "\u001b[32m[I 2021-07-24 22:40:50,691]\u001b[0m Trial 2 finished with value: -0.08711652171176544 and parameters: {'num_leaves': 184, 'n_estimators': 96, 'max_depth': 76, 'learning_rate': 0.013156189997658394, 'min_child_samples': 333, 'reg_alpha': 11.650667438026007, 'reg_lambda': 0.02009949622002745, 'colsample_bytree': 0.4871837729132188, 'subsample': 0.9333557310604143}. Best is trial 0 with value: -0.026083100966854338.\u001b[0m\n",
      "\u001b[32m[I 2021-07-24 22:40:50,732]\u001b[0m Trial 3 finished with value: -0.08501367482400589 and parameters: {'num_leaves': 389, 'n_estimators': 83, 'max_depth': 21, 'learning_rate': 0.020394583275296963, 'min_child_samples': 485, 'reg_alpha': 0.031028983732464578, 'reg_lambda': 25.99693852189542, 'colsample_bytree': 0.5691610609696345, 'subsample': 0.8782094545487444}. Best is trial 0 with value: -0.026083100966854338.\u001b[0m\n",
      "\u001b[32m[I 2021-07-24 22:40:50,775]\u001b[0m Trial 4 finished with value: -0.03412376286640307 and parameters: {'num_leaves': 155, 'n_estimators': 74, 'max_depth': 12, 'learning_rate': 0.041787236219466804, 'min_child_samples': 177, 'reg_alpha': 0.050155760811930926, 'reg_lambda': 0.0011877246768780434, 'colsample_bytree': 0.9311423852526474, 'subsample': 0.4497393119123196}. Best is trial 0 with value: -0.026083100966854338.\u001b[0m\n",
      "\u001b[32m[I 2021-07-24 22:40:50,828]\u001b[0m Trial 5 finished with value: -0.04404142330445566 and parameters: {'num_leaves': 365, 'n_estimators': 86, 'max_depth': 9, 'learning_rate': 0.03372394478843317, 'min_child_samples': 284, 'reg_alpha': 0.5431713693908113, 'reg_lambda': 2.884158645894917, 'colsample_bytree': 0.6313308316693752, 'subsample': 0.4200300062776024}. Best is trial 0 with value: -0.026083100966854338.\u001b[0m\n",
      "\u001b[32m[I 2021-07-24 22:40:50,888]\u001b[0m Trial 6 finished with value: -0.02959450476854222 and parameters: {'num_leaves': 406, 'n_estimators': 75, 'max_depth': 9, 'learning_rate': 0.054833113741922464, 'min_child_samples': 148, 'reg_alpha': 0.7238727457344061, 'reg_lambda': 0.0016669888295657831, 'colsample_bytree': 0.5178191321812752, 'subsample': 0.7112722051252727}. Best is trial 0 with value: -0.026083100966854338.\u001b[0m\n",
      "\u001b[32m[I 2021-07-24 22:40:50,943]\u001b[0m Trial 7 finished with value: -0.025427813264706056 and parameters: {'num_leaves': 290, 'n_estimators': 54, 'max_depth': 20, 'learning_rate': 0.10496935006533459, 'min_child_samples': 91, 'reg_alpha': 11.309189343595841, 'reg_lambda': 1.67554382801074, 'colsample_bytree': 0.9824172725658731, 'subsample': 0.756104202052224}. Best is trial 7 with value: -0.025427813264706056.\u001b[0m\n",
      "\u001b[32m[I 2021-07-24 22:40:50,983]\u001b[0m Trial 8 finished with value: -0.03769705581255388 and parameters: {'num_leaves': 413, 'n_estimators': 53, 'max_depth': 25, 'learning_rate': 0.1533904102821502, 'min_child_samples': 321, 'reg_alpha': 2.169992600414507, 'reg_lambda': 0.04777160593972089, 'colsample_bytree': 0.9736627405291477, 'subsample': 0.8547300340898975}. Best is trial 7 with value: -0.025427813264706056.\u001b[0m\n",
      "\u001b[32m[I 2021-07-24 22:40:51,014]\u001b[0m Trial 9 finished with value: -0.03209547962382875 and parameters: {'num_leaves': 102, 'n_estimators': 52, 'max_depth': 14, 'learning_rate': 0.29681120130974786, 'min_child_samples': 232, 'reg_alpha': 0.0069035023079571075, 'reg_lambda': 0.005634273052164814, 'colsample_bytree': 0.5417628010682377, 'subsample': 0.8616021240893241}. Best is trial 7 with value: -0.025427813264706056.\u001b[0m\n",
      "\u001b[32m[I 2021-07-24 22:40:51,125]\u001b[0m Trial 10 finished with value: -0.019888230765313066 and parameters: {'num_leaves': 305, 'n_estimators': 60, 'max_depth': 44, 'learning_rate': 0.17054690002304615, 'min_child_samples': 31, 'reg_alpha': 61.65931360322555, 'reg_lambda': 0.8849473033190901, 'colsample_bytree': 0.7841034417938122, 'subsample': 0.6655971884150822}. Best is trial 10 with value: -0.019888230765313066.\u001b[0m\n",
      "\u001b[32m[I 2021-07-24 22:40:51,251]\u001b[0m Trial 11 finished with value: -0.019402598547458468 and parameters: {'num_leaves': 297, 'n_estimators': 59, 'max_depth': 48, 'learning_rate': 0.1768015242410439, 'min_child_samples': 23, 'reg_alpha': 92.94839952137889, 'reg_lambda': 0.9715734099005164, 'colsample_bytree': 0.7860877733818653, 'subsample': 0.6457554134712238}. Best is trial 11 with value: -0.019402598547458468.\u001b[0m\n",
      "\u001b[32m[I 2021-07-24 22:40:51,423]\u001b[0m Trial 12 finished with value: -0.021092329645014753 and parameters: {'num_leaves': 495, 'n_estimators': 63, 'max_depth': 48, 'learning_rate': 0.2444210813726694, 'min_child_samples': 13, 'reg_alpha': 70.94576098699538, 'reg_lambda': 0.3612113554419447, 'colsample_bytree': 0.7621892468962121, 'subsample': 0.645558417795161}. Best is trial 11 with value: -0.019402598547458468.\u001b[0m\n",
      "\u001b[32m[I 2021-07-24 22:40:51,585]\u001b[0m Trial 13 finished with value: -0.018233178404315938 and parameters: {'num_leaves': 322, 'n_estimators': 60, 'max_depth': 45, 'learning_rate': 0.24217935633897136, 'min_child_samples': 15, 'reg_alpha': 87.62136784005877, 'reg_lambda': 20.50217591652872, 'colsample_bytree': 0.7565971430533238, 'subsample': 0.5892697211507143}. Best is trial 13 with value: -0.018233178404315938.\u001b[0m\n",
      "\u001b[32m[I 2021-07-24 22:40:51,750]\u001b[0m Trial 14 finished with value: -0.021066462840904278 and parameters: {'num_leaves': 474, 'n_estimators': 59, 'max_depth': 57, 'learning_rate': 0.44930736357203893, 'min_child_samples': 13, 'reg_alpha': 15.972889504604122, 'reg_lambda': 74.76265242950578, 'colsample_bytree': 0.6925614407647953, 'subsample': 0.5662073034837307}. Best is trial 13 with value: -0.018233178404315938.\u001b[0m\n",
      "\u001b[32m[I 2021-07-24 22:40:51,832]\u001b[0m Trial 15 finished with value: -0.019803647340376925 and parameters: {'num_leaves': 346, 'n_estimators': 66, 'max_depth': 36, 'learning_rate': 0.2764352460663085, 'min_child_samples': 70, 'reg_alpha': 91.04142987541266, 'reg_lambda': 11.475911642248104, 'colsample_bytree': 0.8508313267221295, 'subsample': 0.587786814272613}. Best is trial 13 with value: -0.018233178404315938.\u001b[0m\n",
      "\u001b[32m[I 2021-07-24 22:40:51,891]\u001b[0m Trial 16 finished with value: -0.05006669220201814 and parameters: {'num_leaves': 243, 'n_estimators': 50, 'max_depth': 56, 'learning_rate': 0.08111915630446094, 'min_child_samples': 403, 'reg_alpha': 0.0011374956595303235, 'reg_lambda': 7.479777016350372, 'colsample_bytree': 0.40585622941717237, 'subsample': 0.7680177240414162}. Best is trial 13 with value: -0.018233178404315938.\u001b[0m\n",
      "\u001b[32m[I 2021-07-24 22:40:51,954]\u001b[0m Trial 17 finished with value: -0.032048638400503995 and parameters: {'num_leaves': 32, 'n_estimators': 58, 'max_depth': 71, 'learning_rate': 0.17803899167416398, 'min_child_samples': 198, 'reg_alpha': 3.0660832619786587, 'reg_lambda': 58.10124765793376, 'colsample_bytree': 0.7149773919025284, 'subsample': 0.5885967262978236}. Best is trial 13 with value: -0.018233178404315938.\u001b[0m\n",
      "\u001b[32m[I 2021-07-24 22:40:52,044]\u001b[0m Trial 18 finished with value: -0.022834464983362876 and parameters: {'num_leaves': 329, 'n_estimators': 70, 'max_depth': 37, 'learning_rate': 0.41587788886046084, 'min_child_samples': 66, 'reg_alpha': 96.40123774454362, 'reg_lambda': 0.09328853402522118, 'colsample_bytree': 0.8333595896266689, 'subsample': 0.5400742853022269}. Best is trial 13 with value: -0.018233178404315938.\u001b[0m\n",
      "\u001b[32m[I 2021-07-24 22:40:52,132]\u001b[0m Trial 19 finished with value: -0.022764447233222847 and parameters: {'num_leaves': 453, 'n_estimators': 82, 'max_depth': 52, 'learning_rate': 0.22075099105161242, 'min_child_samples': 110, 'reg_alpha': 26.87797252502155, 'reg_lambda': 0.26607752831836434, 'colsample_bytree': 0.6686910624993314, 'subsample': 0.6396777636286013}. Best is trial 13 with value: -0.018233178404315938.\u001b[0m\n"
     ]
    },
    {
     "name": "stderr",
     "output_type": "stream",
     "text": [
      "\u001b[32m[I 2021-07-24 22:40:52,225]\u001b[0m Trial 20 finished with value: -0.018325961863758723 and parameters: {'num_leaves': 196, 'n_estimators': 57, 'max_depth': 36, 'learning_rate': 0.12326130896636424, 'min_child_samples': 41, 'reg_alpha': 4.16379795203976, 'reg_lambda': 7.154158717246126, 'colsample_bytree': 0.7541455972505506, 'subsample': 0.733714479355502}. Best is trial 13 with value: -0.018233178404315938.\u001b[0m\n",
      "\u001b[32m[I 2021-07-24 22:40:52,378]\u001b[0m Trial 21 finished with value: -0.01837815009539426 and parameters: {'num_leaves': 201, 'n_estimators': 57, 'max_depth': 36, 'learning_rate': 0.13107321866070296, 'min_child_samples': 10, 'reg_alpha': 4.519675405129034, 'reg_lambda': 5.97137139449817, 'colsample_bytree': 0.7664470807410455, 'subsample': 0.7383837061379979}. Best is trial 13 with value: -0.018233178404315938.\u001b[0m\n",
      "\u001b[32m[I 2021-07-24 22:40:52,454]\u001b[0m Trial 22 finished with value: -0.020389818332319395 and parameters: {'num_leaves': 120, 'n_estimators': 54, 'max_depth': 35, 'learning_rate': 0.1117767414158439, 'min_child_samples': 61, 'reg_alpha': 3.3239292435409404, 'reg_lambda': 6.343479660460834, 'colsample_bytree': 0.7317378442978784, 'subsample': 0.7730386375868494}. Best is trial 13 with value: -0.018233178404315938.\u001b[0m\n",
      "\u001b[32m[I 2021-07-24 22:40:52,547]\u001b[0m Trial 23 finished with value: -0.02414338050809685 and parameters: {'num_leaves': 204, 'n_estimators': 50, 'max_depth': 32, 'learning_rate': 0.06968781170208747, 'min_child_samples': 13, 'reg_alpha': 1.4028363448897712, 'reg_lambda': 22.725168407327537, 'colsample_bytree': 0.6405907472348967, 'subsample': 0.8076496640566511}. Best is trial 13 with value: -0.018233178404315938.\u001b[0m\n",
      "\u001b[32m[I 2021-07-24 22:40:52,621]\u001b[0m Trial 24 finished with value: -0.01955908467875672 and parameters: {'num_leaves': 59, 'n_estimators': 56, 'max_depth': 41, 'learning_rate': 0.14193597230964614, 'min_child_samples': 57, 'reg_alpha': 6.6359428764022095, 'reg_lambda': 27.258710024275803, 'colsample_bytree': 0.8977395543916713, 'subsample': 0.7027502741760829}. Best is trial 13 with value: -0.018233178404315938.\u001b[0m\n",
      "\u001b[32m[I 2021-07-24 22:40:52,688]\u001b[0m Trial 25 finished with value: -0.029324365705998466 and parameters: {'num_leaves': 163, 'n_estimators': 67, 'max_depth': 28, 'learning_rate': 0.07937505518479991, 'min_child_samples': 133, 'reg_alpha': 35.73362879859821, 'reg_lambda': 4.014648434342068, 'colsample_bytree': 0.8070734012710699, 'subsample': 0.6994667890308107}. Best is trial 13 with value: -0.018233178404315938.\u001b[0m\n",
      "\u001b[32m[I 2021-07-24 22:40:52,763]\u001b[0m Trial 26 finished with value: -0.023235679946500765 and parameters: {'num_leaves': 252, 'n_estimators': 62, 'max_depth': 42, 'learning_rate': 0.325833679787297, 'min_child_samples': 90, 'reg_alpha': 0.20784028904182666, 'reg_lambda': 13.707374297322346, 'colsample_bytree': 0.7402425820786097, 'subsample': 0.9848400660142795}. Best is trial 13 with value: -0.018233178404315938.\u001b[0m\n",
      "\u001b[32m[I 2021-07-24 22:40:52,822]\u001b[0m Trial 27 finished with value: -0.03038209506775692 and parameters: {'num_leaves': 121, 'n_estimators': 50, 'max_depth': 58, 'learning_rate': 0.1292696756288258, 'min_child_samples': 171, 'reg_alpha': 5.330791988456023, 'reg_lambda': 99.7369662063219, 'colsample_bytree': 0.6695492613556242, 'subsample': 0.819703211695014}. Best is trial 13 with value: -0.018233178404315938.\u001b[0m\n",
      "\u001b[32m[I 2021-07-24 22:40:52,905]\u001b[0m Trial 28 finished with value: -0.01829611170178039 and parameters: {'num_leaves': 229, 'n_estimators': 56, 'max_depth': 48, 'learning_rate': 0.22754051157977373, 'min_child_samples': 42, 'reg_alpha': 1.0031539656374122, 'reg_lambda': 42.21328258032546, 'colsample_bytree': 0.8855842528916408, 'subsample': 0.7177201602590141}. Best is trial 13 with value: -0.018233178404315938.\u001b[0m\n",
      "\u001b[32m[I 2021-07-24 22:40:52,975]\u001b[0m Trial 29 finished with value: -0.024835105685409573 and parameters: {'num_leaves': 269, 'n_estimators': 65, 'max_depth': 67, 'learning_rate': 0.21462224777731165, 'min_child_samples': 120, 'reg_alpha': 0.11461833729106434, 'reg_lambda': 40.250357860145314, 'colsample_bytree': 0.9122926790098845, 'subsample': 0.6134749946548936}. Best is trial 13 with value: -0.018233178404315938.\u001b[0m\n",
      "\u001b[32m[I 2021-07-24 22:40:53,037]\u001b[0m Trial 30 finished with value: -0.0282085054667393 and parameters: {'num_leaves': 260, 'n_estimators': 69, 'max_depth': 63, 'learning_rate': 0.3462091901834164, 'min_child_samples': 218, 'reg_alpha': 0.9858412047529437, 'reg_lambda': 93.97936646484635, 'colsample_bytree': 0.946960203030065, 'subsample': 0.4907512634577284}. Best is trial 13 with value: -0.018233178404315938.\u001b[0m\n",
      "\u001b[32m[I 2021-07-24 22:40:53,123]\u001b[0m Trial 31 finished with value: -0.018330116134585416 and parameters: {'num_leaves': 215, 'n_estimators': 56, 'max_depth': 48, 'learning_rate': 0.10919247424732204, 'min_child_samples': 38, 'reg_alpha': 1.9583683871939952, 'reg_lambda': 11.437558029785293, 'colsample_bytree': 0.8131917819038104, 'subsample': 0.7475869943775701}. Best is trial 13 with value: -0.018233178404315938.\u001b[0m\n",
      "\u001b[32m[I 2021-07-24 22:40:53,219]\u001b[0m Trial 32 finished with value: -0.018449999095364975 and parameters: {'num_leaves': 221, 'n_estimators': 61, 'max_depth': 48, 'learning_rate': 0.09894053522198151, 'min_child_samples': 36, 'reg_alpha': 1.6417659971500613, 'reg_lambda': 12.887155443458282, 'colsample_bytree': 0.881313316711753, 'subsample': 0.6869485770156949}. Best is trial 13 with value: -0.018233178404315938.\u001b[0m\n",
      "\u001b[32m[I 2021-07-24 22:40:53,293]\u001b[0m Trial 33 finished with value: -0.02333743130201595 and parameters: {'num_leaves': 183, 'n_estimators': 54, 'max_depth': 52, 'learning_rate': 0.20935621292265277, 'min_child_samples': 93, 'reg_alpha': 0.3688664307882806, 'reg_lambda': 2.060007575832124, 'colsample_bytree': 0.835718098300488, 'subsample': 0.7335436657825004}. Best is trial 13 with value: -0.018233178404315938.\u001b[0m\n",
      "\u001b[32m[I 2021-07-24 22:40:53,391]\u001b[0m Trial 34 finished with value: -0.022081733542498885 and parameters: {'num_leaves': 229, 'n_estimators': 56, 'max_depth': 45, 'learning_rate': 0.08787149280901513, 'min_child_samples': 46, 'reg_alpha': 0.29670937227436706, 'reg_lambda': 27.942187028858257, 'colsample_bytree': 0.8199915339427166, 'subsample': 0.8123719258808908}. Best is trial 13 with value: -0.018233178404315938.\u001b[0m\n",
      "\u001b[32m[I 2021-07-24 22:40:53,463]\u001b[0m Trial 35 finished with value: -0.045035900110666924 and parameters: {'num_leaves': 153, 'n_estimators': 99, 'max_depth': 40, 'learning_rate': 0.057647669644354214, 'min_child_samples': 395, 'reg_alpha': 0.0927013315285842, 'reg_lambda': 12.399880619928627, 'colsample_bytree': 0.8576974277542428, 'subsample': 0.7823880245428694}. Best is trial 13 with value: -0.018233178404315938.\u001b[0m\n",
      "\u001b[32m[I 2021-07-24 22:40:53,539]\u001b[0m Trial 36 finished with value: -0.02449229630281737 and parameters: {'num_leaves': 280, 'n_estimators': 74, 'max_depth': 30, 'learning_rate': 0.35545295927780063, 'min_child_samples': 154, 'reg_alpha': 9.860310952517926, 'reg_lambda': 47.4139316322121, 'colsample_bytree': 0.7464152541201681, 'subsample': 0.9026877700514928}. Best is trial 13 with value: -0.018233178404315938.\u001b[0m\n",
      "\u001b[32m[I 2021-07-24 22:40:53,627]\u001b[0m Trial 37 finished with value: -0.03378305145679565 and parameters: {'num_leaves': 322, 'n_estimators': 64, 'max_depth': 52, 'learning_rate': 0.03562173399468685, 'min_child_samples': 86, 'reg_alpha': 0.019186246618985926, 'reg_lambda': 3.3371462103467513, 'colsample_bytree': 0.618953405398619, 'subsample': 0.7232740416681024}. Best is trial 13 with value: -0.018233178404315938.\u001b[0m\n",
      "\u001b[32m[I 2021-07-24 22:40:53,719]\u001b[0m Trial 38 finished with value: -0.01870937401163871 and parameters: {'num_leaves': 188, 'n_estimators': 50, 'max_depth': 61, 'learning_rate': 0.12223940541756195, 'min_child_samples': 41, 'reg_alpha': 0.6541892252278478, 'reg_lambda': 19.66629716418706, 'colsample_bytree': 0.8051085471132345, 'subsample': 0.5291343519966618}. Best is trial 13 with value: -0.018233178404315938.\u001b[0m\n",
      "\u001b[32m[I 2021-07-24 22:40:53,818]\u001b[0m Trial 39 finished with value: -0.026475575011491115 and parameters: {'num_leaves': 368, 'n_estimators': 92, 'max_depth': 79, 'learning_rate': 0.060019788346309624, 'min_child_samples': 111, 'reg_alpha': 23.971423680309428, 'reg_lambda': 1.3434921909864908, 'colsample_bytree': 0.8763760870277122, 'subsample': 0.681815957344733}. Best is trial 13 with value: -0.018233178404315938.\u001b[0m\n"
     ]
    },
    {
     "name": "stderr",
     "output_type": "stream",
     "text": [
      "\u001b[32m[I 2021-07-24 22:40:53,887]\u001b[0m Trial 40 finished with value: -0.0834368323272129 and parameters: {'num_leaves': 235, 'n_estimators': 77, 'max_depth': 24, 'learning_rate': 0.013626584260154876, 'min_child_samples': 274, 'reg_alpha': 0.9867941125829441, 'reg_lambda': 0.5318697601179347, 'colsample_bytree': 0.9339933128549318, 'subsample': 0.44441191212515807}. Best is trial 13 with value: -0.018233178404315938.\u001b[0m\n",
      "\u001b[32m[I 2021-07-24 22:40:54,038]\u001b[0m Trial 41 finished with value: -0.018207660153335532 and parameters: {'num_leaves': 205, 'n_estimators': 57, 'max_depth': 33, 'learning_rate': 0.14811877142252222, 'min_child_samples': 14, 'reg_alpha': 4.838305695769587, 'reg_lambda': 6.590383096541103, 'colsample_bytree': 0.765923405403627, 'subsample': 0.7392978235944264}. Best is trial 41 with value: -0.018207660153335532.\u001b[0m\n",
      "\u001b[32m[I 2021-07-24 22:40:54,141]\u001b[0m Trial 42 finished with value: -0.01907505748376161 and parameters: {'num_leaves': 149, 'n_estimators': 56, 'max_depth': 33, 'learning_rate': 0.18531155726887422, 'min_child_samples': 42, 'reg_alpha': 2.5260245625534687, 'reg_lambda': 7.016418943226069, 'colsample_bytree': 0.6924695158444568, 'subsample': 0.7498645904414606}. Best is trial 41 with value: -0.018207660153335532.\u001b[0m\n",
      "\u001b[32m[I 2021-07-24 22:40:54,224]\u001b[0m Trial 43 finished with value: -0.021058587789165566 and parameters: {'num_leaves': 217, 'n_estimators': 52, 'max_depth': 38, 'learning_rate': 0.2579882450782474, 'min_child_samples': 77, 'reg_alpha': 8.262887436197973, 'reg_lambda': 3.6404068017888185, 'colsample_bytree': 0.7907008760405188, 'subsample': 0.8088605824844216}. Best is trial 41 with value: -0.018207660153335532.\u001b[0m\n",
      "\u001b[32m[I 2021-07-24 22:40:54,335]\u001b[0m Trial 44 finished with value: -0.01824395297661987 and parameters: {'num_leaves': 177, 'n_estimators': 60, 'max_depth': 45, 'learning_rate': 0.15808161649738137, 'min_child_samples': 15, 'reg_alpha': 1.4491234723311561, 'reg_lambda': 49.24444898354623, 'colsample_bytree': 0.7700033019672705, 'subsample': 0.8406801249087249}. Best is trial 41 with value: -0.018207660153335532.\u001b[0m\n",
      "\u001b[32m[I 2021-07-24 22:40:54,462]\u001b[0m Trial 45 finished with value: -0.01846595781427871 and parameters: {'num_leaves': 84, 'n_estimators': 61, 'max_depth': 20, 'learning_rate': 0.15858921707692664, 'min_child_samples': 10, 'reg_alpha': 0.45551961371499544, 'reg_lambda': 41.38878999469734, 'colsample_bytree': 0.714958262335821, 'subsample': 0.9716871618295015}. Best is trial 41 with value: -0.018207660153335532.\u001b[0m\n",
      "\u001b[32m[I 2021-07-24 22:40:54,571]\u001b[0m Trial 46 finished with value: -0.019471967254165234 and parameters: {'num_leaves': 173, 'n_estimators': 59, 'max_depth': 46, 'learning_rate': 0.49508434430770254, 'min_child_samples': 17, 'reg_alpha': 18.33247444195536, 'reg_lambda': 75.04271954330811, 'colsample_bytree': 0.7679663213010266, 'subsample': 0.8644066151053749}. Best is trial 41 with value: -0.018207660153335532.\u001b[0m\n",
      "\u001b[32m[I 2021-07-24 22:40:54,658]\u001b[0m Trial 47 finished with value: -0.019696952393218833 and parameters: {'num_leaves': 304, 'n_estimators': 70, 'max_depth': 40, 'learning_rate': 0.19461364516783722, 'min_child_samples': 60, 'reg_alpha': 41.24363055595546, 'reg_lambda': 35.25625569140151, 'colsample_bytree': 0.6697690966141454, 'subsample': 0.9088663305250269}. Best is trial 41 with value: -0.018207660153335532.\u001b[0m\n",
      "\u001b[32m[I 2021-07-24 22:40:54,730]\u001b[0m Trial 48 finished with value: -0.026592876289413026 and parameters: {'num_leaves': 138, 'n_estimators': 53, 'max_depth': 44, 'learning_rate': 0.1513780032360114, 'min_child_samples': 139, 'reg_alpha': 0.1743025226174624, 'reg_lambda': 17.751959108105048, 'colsample_bytree': 0.9921947900631504, 'subsample': 0.8336794744443669}. Best is trial 41 with value: -0.018207660153335532.\u001b[0m\n",
      "\u001b[32m[I 2021-07-24 22:40:54,840]\u001b[0m Trial 49 finished with value: -0.01810933658641774 and parameters: {'num_leaves': 190, 'n_estimators': 62, 'max_depth': 53, 'learning_rate': 0.2602626628825147, 'min_child_samples': 23, 'reg_alpha': 1.034485505020215, 'reg_lambda': 1.9900571133471878, 'colsample_bytree': 0.5853614657453813, 'subsample': 0.6137014953857626}. Best is trial 49 with value: -0.01810933658641774.\u001b[0m\n",
      "\u001b[32m[I 2021-07-24 22:40:55,018]\u001b[0m Trial 50 finished with value: -0.01997026410256397 and parameters: {'num_leaves': 249, 'n_estimators': 63, 'max_depth': 52, 'learning_rate': 0.28329785408543257, 'min_child_samples': 10, 'reg_alpha': 0.04930049495854489, 'reg_lambda': 1.8456510295042814, 'colsample_bytree': 0.5859685271581906, 'subsample': 0.6023918900713013}. Best is trial 49 with value: -0.01810933658641774.\u001b[0m\n",
      "\u001b[32m[I 2021-07-24 22:40:55,127]\u001b[0m Trial 51 finished with value: -0.019238708784281088 and parameters: {'num_leaves': 194, 'n_estimators': 60, 'max_depth': 50, 'learning_rate': 0.23214353385498357, 'min_child_samples': 27, 'reg_alpha': 1.1042487997955108, 'reg_lambda': 6.936336415958778, 'colsample_bytree': 0.47579048840101545, 'subsample': 0.6275516357415976}. Best is trial 49 with value: -0.01810933658641774.\u001b[0m\n",
      "\u001b[32m[I 2021-07-24 22:40:55,209]\u001b[0m Trial 52 finished with value: -0.023175239421135047 and parameters: {'num_leaves': 166, 'n_estimators': 66, 'max_depth': 56, 'learning_rate': 0.16507208443292112, 'min_child_samples': 103, 'reg_alpha': 3.95905645573089, 'reg_lambda': 0.8572046330567075, 'colsample_bytree': 0.5943619978545057, 'subsample': 0.6563229428938825}. Best is trial 49 with value: -0.01810933658641774.\u001b[0m\n",
      "\u001b[32m[I 2021-07-24 22:40:55,304]\u001b[0m Trial 53 finished with value: -0.02139789734570908 and parameters: {'num_leaves': 276, 'n_estimators': 59, 'max_depth': 32, 'learning_rate': 0.40576328940235173, 'min_child_samples': 75, 'reg_alpha': 0.6779858260548453, 'reg_lambda': 4.580879038900575, 'colsample_bytree': 0.4973190641037706, 'subsample': 0.5581863619140972}. Best is trial 49 with value: -0.01810933658641774.\u001b[0m\n",
      "\u001b[32m[I 2021-07-24 22:40:55,394]\u001b[0m Trial 54 finished with value: -0.01872798211615571 and parameters: {'num_leaves': 132, 'n_estimators': 68, 'max_depth': 43, 'learning_rate': 0.24375849378354394, 'min_child_samples': 53, 'reg_alpha': 2.197527942660305, 'reg_lambda': 2.749981408792914, 'colsample_bytree': 0.5406042883066049, 'subsample': 0.6704438435574382}. Best is trial 49 with value: -0.01810933658641774.\u001b[0m\n",
      "\u001b[32m[I 2021-07-24 22:40:55,494]\u001b[0m Trial 55 finished with value: -0.018540525056854558 and parameters: {'num_leaves': 202, 'n_estimators': 58, 'max_depth': 39, 'learning_rate': 0.2956971265946545, 'min_child_samples': 31, 'reg_alpha': 1.188685629981435, 'reg_lambda': 10.103052624982126, 'colsample_bytree': 0.7188279313230918, 'subsample': 0.7853329304674936}. Best is trial 49 with value: -0.01810933658641774.\u001b[0m\n",
      "\u001b[32m[I 2021-07-24 22:40:55,608]\u001b[0m Trial 56 finished with value: -0.020105964269386968 and parameters: {'num_leaves': 237, 'n_estimators': 52, 'max_depth': 25, 'learning_rate': 0.14032537393626884, 'min_child_samples': 10, 'reg_alpha': 6.031237079567565, 'reg_lambda': 56.07597946334371, 'colsample_bytree': 0.7602061976429514, 'subsample': 0.7208637823127365}. Best is trial 49 with value: -0.01810933658641774.\u001b[0m\n",
      "\u001b[32m[I 2021-07-24 22:40:55,691]\u001b[0m Trial 57 finished with value: -0.022659139541335308 and parameters: {'num_leaves': 332, 'n_estimators': 62, 'max_depth': 54, 'learning_rate': 0.09717822765321964, 'min_child_samples': 74, 'reg_alpha': 11.95851724805466, 'reg_lambda': 18.866982216188163, 'colsample_bytree': 0.698702979356776, 'subsample': 0.561560721924889}. Best is trial 49 with value: -0.01810933658641774.\u001b[0m\n",
      "\u001b[32m[I 2021-07-24 22:40:55,792]\u001b[0m Trial 58 finished with value: -0.018857074003824914 and parameters: {'num_leaves': 178, 'n_estimators': 55, 'max_depth': 34, 'learning_rate': 0.12048807616216631, 'min_child_samples': 27, 'reg_alpha': 0.4735215414142058, 'reg_lambda': 0.1534779895296653, 'colsample_bytree': 0.4478079397936246, 'subsample': 0.6265700682601751}. Best is trial 49 with value: -0.01810933658641774.\u001b[0m\n",
      "\u001b[32m[I 2021-07-24 22:40:55,889]\u001b[0m Trial 59 finished with value: -0.019158664596940284 and parameters: {'num_leaves': 212, 'n_estimators': 72, 'max_depth': 17, 'learning_rate': 0.19743361979098867, 'min_child_samples': 54, 'reg_alpha': 2.9607217969902955, 'reg_lambda': 0.00979122106762738, 'colsample_bytree': 0.6447384241670813, 'subsample': 0.5869431438527191}. Best is trial 49 with value: -0.01810933658641774.\u001b[0m\n"
     ]
    },
    {
     "name": "stderr",
     "output_type": "stream",
     "text": [
      "\u001b[32m[I 2021-07-24 22:40:56,003]\u001b[0m Trial 60 finished with value: -0.018443177876756527 and parameters: {'num_leaves': 95, 'n_estimators': 64, 'max_depth': 60, 'learning_rate': 0.17269666528002933, 'min_child_samples': 23, 'reg_alpha': 0.7482698637270473, 'reg_lambda': 2.4886462655856754, 'colsample_bytree': 0.7811220652095489, 'subsample': 0.6878733111779415}. Best is trial 49 with value: -0.01810933658641774.\u001b[0m\n",
      "\u001b[32m[I 2021-07-24 22:40:56,093]\u001b[0m Trial 61 finished with value: -0.018753271695041977 and parameters: {'num_leaves': 224, 'n_estimators': 57, 'max_depth': 49, 'learning_rate': 0.10609870123804192, 'min_child_samples': 43, 'reg_alpha': 3.8150042318797026, 'reg_lambda': 9.464164896144863, 'colsample_bytree': 0.8360650066246911, 'subsample': 0.7074905027181813}. Best is trial 49 with value: -0.01810933658641774.\u001b[0m\n",
      "\u001b[32m[I 2021-07-24 22:40:56,251]\u001b[0m Trial 62 finished with value: -0.01856850869785503 and parameters: {'num_leaves': 200, 'n_estimators': 57, 'max_depth': 45, 'learning_rate': 0.1406519182372638, 'min_child_samples': 10, 'reg_alpha': 2.2617868602083595, 'reg_lambda': 5.154553773144621, 'colsample_bytree': 0.81429272555922, 'subsample': 0.7494171469501637}. Best is trial 49 with value: -0.01810933658641774.\u001b[0m\n",
      "\u001b[32m[I 2021-07-24 22:40:56,334]\u001b[0m Trial 63 finished with value: -0.023460082685660008 and parameters: {'num_leaves': 259, 'n_estimators': 55, 'max_depth': 46, 'learning_rate': 0.07592602275273397, 'min_child_samples': 62, 'reg_alpha': 1.6636912916312803, 'reg_lambda': 17.88049829561789, 'colsample_bytree': 0.7534026095664315, 'subsample': 0.7956524998295403}. Best is trial 49 with value: -0.01810933658641774.\u001b[0m\n",
      "\u001b[32m[I 2021-07-24 22:40:56,430]\u001b[0m Trial 64 finished with value: -0.020759159953525657 and parameters: {'num_leaves': 292, 'n_estimators': 60, 'max_depth': 49, 'learning_rate': 0.09077137896490776, 'min_child_samples': 35, 'reg_alpha': 1.4621632625158179, 'reg_lambda': 26.548161408518233, 'colsample_bytree': 0.7305817427079832, 'subsample': 0.7630817464036881}. Best is trial 49 with value: -0.01810933658641774.\u001b[0m\n",
      "\u001b[32m[I 2021-07-24 22:40:56,504]\u001b[0m Trial 65 finished with value: -0.024206081286127345 and parameters: {'num_leaves': 175, 'n_estimators': 52, 'max_depth': 42, 'learning_rate': 0.11688854819467309, 'min_child_samples': 82, 'reg_alpha': 0.277455039605037, 'reg_lambda': 9.726239008703258, 'colsample_bytree': 0.7860157732638632, 'subsample': 0.7240081216174307}. Best is trial 49 with value: -0.01810933658641774.\u001b[0m\n",
      "\u001b[32m[I 2021-07-24 22:40:56,568]\u001b[0m Trial 66 finished with value: -0.036144912786484136 and parameters: {'num_leaves': 242, 'n_estimators': 58, 'max_depth': 55, 'learning_rate': 0.2556100718288952, 'min_child_samples': 315, 'reg_alpha': 7.021953755900185, 'reg_lambda': 79.42619539753653, 'colsample_bytree': 0.9003025305475132, 'subsample': 0.5242104660330675}. Best is trial 49 with value: -0.01810933658641774.\u001b[0m\n",
      "\u001b[32m[I 2021-07-24 22:40:56,643]\u001b[0m Trial 67 finished with value: -0.02886752811885658 and parameters: {'num_leaves': 153, 'n_estimators': 62, 'max_depth': 30, 'learning_rate': 0.06633990928382215, 'min_child_samples': 100, 'reg_alpha': 0.8407000280372565, 'reg_lambda': 31.826737958090455, 'colsample_bytree': 0.8462657406823607, 'subsample': 0.8405354359124283}. Best is trial 49 with value: -0.01810933658641774.\u001b[0m\n",
      "\u001b[32m[I 2021-07-24 22:40:56,706]\u001b[0m Trial 68 finished with value: -0.04379411290653918 and parameters: {'num_leaves': 212, 'n_estimators': 54, 'max_depth': 37, 'learning_rate': 0.3300012813048552, 'min_child_samples': 414, 'reg_alpha': 1.7814211893367848, 'reg_lambda': 14.70505943993116, 'colsample_bytree': 0.8713815655534962, 'subsample': 0.6562810288915487}. Best is trial 49 with value: -0.01810933658641774.\u001b[0m\n",
      "\u001b[32m[I 2021-07-24 22:40:56,810]\u001b[0m Trial 69 finished with value: -0.01972241200908749 and parameters: {'num_leaves': 432, 'n_estimators': 58, 'max_depth': 47, 'learning_rate': 0.2176280181585076, 'min_child_samples': 48, 'reg_alpha': 5.0476589360511985, 'reg_lambda': 59.307448766767365, 'colsample_bytree': 0.7983816961616554, 'subsample': 0.7463658072400453}. Best is trial 49 with value: -0.01810933658641774.\u001b[0m\n",
      "\u001b[32m[I 2021-07-24 22:40:56,955]\u001b[0m Trial 70 finished with value: -0.01930033277311064 and parameters: {'num_leaves': 189, 'n_estimators': 65, 'max_depth': 59, 'learning_rate': 0.1801503171634136, 'min_child_samples': 21, 'reg_alpha': 13.748070771580123, 'reg_lambda': 4.813580931587638, 'colsample_bytree': 0.8223352017900495, 'subsample': 0.6729634760017453}. Best is trial 49 with value: -0.01810933658641774.\u001b[0m\n",
      "\u001b[32m[I 2021-07-24 22:40:57,077]\u001b[0m Trial 71 finished with value: -0.017805932354938308 and parameters: {'num_leaves': 210, 'n_estimators': 56, 'max_depth': 35, 'learning_rate': 0.14651223030548316, 'min_child_samples': 30, 'reg_alpha': 4.775633315904766, 'reg_lambda': 1.4028596243824722, 'colsample_bytree': 0.7722908831538167, 'subsample': 0.740848449330022}. Best is trial 71 with value: -0.017805932354938308.\u001b[0m\n",
      "\u001b[32m[I 2021-07-24 22:40:57,170]\u001b[0m Trial 72 finished with value: -0.019494377257896517 and parameters: {'num_leaves': 232, 'n_estimators': 55, 'max_depth': 29, 'learning_rate': 0.1339473922114952, 'min_child_samples': 65, 'reg_alpha': 3.7510997999940905, 'reg_lambda': 1.2120904939692885, 'colsample_bytree': 0.7777864008208079, 'subsample': 0.7759997147230853}. Best is trial 71 with value: -0.017805932354938308.\u001b[0m\n",
      "\u001b[32m[I 2021-07-24 22:40:57,293]\u001b[0m Trial 73 finished with value: -0.01898276695952329 and parameters: {'num_leaves': 211, 'n_estimators': 61, 'max_depth': 36, 'learning_rate': 0.16649949741594877, 'min_child_samples': 31, 'reg_alpha': 2.69810217827168, 'reg_lambda': 0.47216318787782063, 'colsample_bytree': 0.733719515129844, 'subsample': 0.699645271180309}. Best is trial 71 with value: -0.017805932354938308.\u001b[0m\n",
      "\u001b[32m[I 2021-07-24 22:40:57,385]\u001b[0m Trial 74 finished with value: -0.027188838997465402 and parameters: {'num_leaves': 190, 'n_estimators': 51, 'max_depth': 41, 'learning_rate': 0.046565668249117356, 'min_child_samples': 49, 'reg_alpha': 1.8613117526945562, 'reg_lambda': 0.922036782255646, 'colsample_bytree': 0.681978443556887, 'subsample': 0.740692991478195}. Best is trial 71 with value: -0.017805932354938308.\u001b[0m\n",
      "\u001b[32m[I 2021-07-24 22:40:57,544]\u001b[0m Trial 75 finished with value: -0.018080246986285235 and parameters: {'num_leaves': 166, 'n_estimators': 56, 'max_depth': 51, 'learning_rate': 0.1488395119463347, 'min_child_samples': 11, 'reg_alpha': 0.5085887904480552, 'reg_lambda': 7.686460216039472, 'colsample_bytree': 0.7501902109618839, 'subsample': 0.7667375296890224}. Best is trial 71 with value: -0.017805932354938308.\u001b[0m\n",
      "\u001b[32m[I 2021-07-24 22:40:57,711]\u001b[0m Trial 76 finished with value: -0.02119460026502681 and parameters: {'num_leaves': 114, 'n_estimators': 59, 'max_depth': 26, 'learning_rate': 0.3757116204814955, 'min_child_samples': 10, 'reg_alpha': 0.13499279054005828, 'reg_lambda': 1.559197964686156, 'colsample_bytree': 0.713464916210138, 'subsample': 0.7958644306498153}. Best is trial 71 with value: -0.017805932354938308.\u001b[0m\n",
      "\u001b[32m[I 2021-07-24 22:40:57,817]\u001b[0m Trial 77 finished with value: -0.01893103677764501 and parameters: {'num_leaves': 159, 'n_estimators': 53, 'max_depth': 51, 'learning_rate': 0.1965068088971752, 'min_child_samples': 23, 'reg_alpha': 0.6115599378494944, 'reg_lambda': 0.6196904892683941, 'colsample_bytree': 0.7387515756740741, 'subsample': 0.8275156025349536}. Best is trial 71 with value: -0.017805932354938308.\u001b[0m\n",
      "\u001b[32m[I 2021-07-24 22:40:57,892]\u001b[0m Trial 78 finished with value: -0.02619345689227464 and parameters: {'num_leaves': 139, 'n_estimators': 57, 'max_depth': 53, 'learning_rate': 0.14950400016579413, 'min_child_samples': 121, 'reg_alpha': 0.3426719667866575, 'reg_lambda': 7.840840295123877, 'colsample_bytree': 0.7554557615084991, 'subsample': 0.7626642756002202}. Best is trial 71 with value: -0.017805932354938308.\u001b[0m\n",
      "\u001b[32m[I 2021-07-24 22:40:57,989]\u001b[0m Trial 79 finished with value: -0.01972093190473346 and parameters: {'num_leaves': 177, 'n_estimators': 60, 'max_depth': 43, 'learning_rate': 0.2656050144566992, 'min_child_samples': 68, 'reg_alpha': 0.002123364068457444, 'reg_lambda': 2.3733304801079296, 'colsample_bytree': 0.6463955193411257, 'subsample': 0.8847076705141328}. Best is trial 71 with value: -0.017805932354938308.\u001b[0m\n"
     ]
    },
    {
     "name": "stderr",
     "output_type": "stream",
     "text": [
      "\u001b[32m[I 2021-07-24 22:40:58,097]\u001b[0m Trial 80 finished with value: -0.01907732731356683 and parameters: {'num_leaves': 381, 'n_estimators': 54, 'max_depth': 38, 'learning_rate': 0.3103598765685301, 'min_child_samples': 40, 'reg_alpha': 1.3090862033306623, 'reg_lambda': 23.923800579478247, 'colsample_bytree': 0.7689162203001019, 'subsample': 0.7182671680055249}. Best is trial 71 with value: -0.017805932354938308.\u001b[0m\n",
      "\u001b[32m[I 2021-07-24 22:40:58,190]\u001b[0m Trial 81 finished with value: -0.01932405732872978 and parameters: {'num_leaves': 227, 'n_estimators': 56, 'max_depth': 47, 'learning_rate': 0.10752767598970882, 'min_child_samples': 36, 'reg_alpha': 0.8510781372023021, 'reg_lambda': 14.76743179406599, 'colsample_bytree': 0.8068070192274196, 'subsample': 0.7318323611724318}. Best is trial 71 with value: -0.017805932354938308.\u001b[0m\n",
      "\u001b[32m[I 2021-07-24 22:40:58,305]\u001b[0m Trial 82 finished with value: -0.018526002102834293 and parameters: {'num_leaves': 165, 'n_estimators': 57, 'max_depth': 35, 'learning_rate': 0.1240145432294602, 'min_child_samples': 20, 'reg_alpha': 9.101462831329382, 'reg_lambda': 3.675451488094949, 'colsample_bytree': 0.797172777212176, 'subsample': 0.7653748957619428}. Best is trial 71 with value: -0.017805932354938308.\u001b[0m\n",
      "\u001b[32m[I 2021-07-24 22:40:58,383]\u001b[0m Trial 83 finished with value: -0.01928526551877862 and parameters: {'num_leaves': 264, 'n_estimators': 55, 'max_depth': 5, 'learning_rate': 0.2302517891110572, 'min_child_samples': 56, 'reg_alpha': 0.4715568571333486, 'reg_lambda': 8.24178348789441, 'colsample_bytree': 0.7226549783963909, 'subsample': 0.6949683725946385}. Best is trial 71 with value: -0.017805932354938308.\u001b[0m\n",
      "\u001b[32m[I 2021-07-24 22:40:58,558]\u001b[0m Trial 84 finished with value: -0.01926227299958433 and parameters: {'num_leaves': 200, 'n_estimators': 62, 'max_depth': 32, 'learning_rate': 0.15847347673190582, 'min_child_samples': 12, 'reg_alpha': 4.991176803060253, 'reg_lambda': 0.25101091293609884, 'colsample_bytree': 0.7516640954171167, 'subsample': 0.7930160511103348}. Best is trial 71 with value: -0.017805932354938308.\u001b[0m\n",
      "\u001b[32m[I 2021-07-24 22:40:58,635]\u001b[0m Trial 85 finished with value: -0.022045127001824476 and parameters: {'num_leaves': 221, 'n_estimators': 60, 'max_depth': 50, 'learning_rate': 0.20650550738046544, 'min_child_samples': 86, 'reg_alpha': 1.208642618473966, 'reg_lambda': 5.599686179383269, 'colsample_bytree': 0.7684014992422672, 'subsample': 0.7075580124746631}. Best is trial 71 with value: -0.017805932354938308.\u001b[0m\n",
      "\u001b[32m[I 2021-07-24 22:40:58,720]\u001b[0m Trial 86 finished with value: -0.020404597919624522 and parameters: {'num_leaves': 279, 'n_estimators': 51, 'max_depth': 57, 'learning_rate': 0.08790891297443704, 'min_child_samples': 43, 'reg_alpha': 3.142374457099029, 'reg_lambda': 11.73388705424986, 'colsample_bytree': 0.7096396912700429, 'subsample': 0.8538237132261749}. Best is trial 71 with value: -0.017805932354938308.\u001b[0m\n",
      "\u001b[32m[I 2021-07-24 22:40:58,828]\u001b[0m Trial 87 finished with value: -0.01977521809863664 and parameters: {'num_leaves': 246, 'n_estimators': 63, 'max_depth': 40, 'learning_rate': 0.09821175606968911, 'min_child_samples': 29, 'reg_alpha': 0.17847843988448683, 'reg_lambda': 33.027141599265626, 'colsample_bytree': 0.9658345350034322, 'subsample': 0.6049697446021922}. Best is trial 71 with value: -0.017805932354938308.\u001b[0m\n",
      "\u001b[32m[I 2021-07-24 22:40:59,053]\u001b[0m Trial 88 finished with value: -0.018783050372092446 and parameters: {'num_leaves': 147, 'n_estimators': 80, 'max_depth': 45, 'learning_rate': 0.13096200915469228, 'min_child_samples': 10, 'reg_alpha': 52.89374548834266, 'reg_lambda': 3.8040606426590684, 'colsample_bytree': 0.8289218887985097, 'subsample': 0.5762338901072961}. Best is trial 71 with value: -0.017805932354938308.\u001b[0m\n",
      "\u001b[32m[I 2021-07-24 22:40:59,141]\u001b[0m Trial 89 finished with value: -0.019804374077296634 and parameters: {'num_leaves': 187, 'n_estimators': 58, 'max_depth': 54, 'learning_rate': 0.18427770473153413, 'min_child_samples': 55, 'reg_alpha': 0.38686504364689095, 'reg_lambda': 52.074508984918666, 'colsample_bytree': 0.8460792708626824, 'subsample': 0.7378281237244485}. Best is trial 71 with value: -0.017805932354938308.\u001b[0m\n",
      "\u001b[32m[I 2021-07-24 22:40:59,203]\u001b[0m Trial 90 finished with value: -0.03303797482008528 and parameters: {'num_leaves': 207, 'n_estimators': 56, 'max_depth': 66, 'learning_rate': 0.14790503819847944, 'min_child_samples': 240, 'reg_alpha': 21.841087497686907, 'reg_lambda': 6.273627362768972, 'colsample_bytree': 0.7442709714682068, 'subsample': 0.75662553110454}. Best is trial 71 with value: -0.017805932354938308.\u001b[0m\n",
      "\u001b[32m[I 2021-07-24 22:40:59,299]\u001b[0m Trial 91 finished with value: -0.018781368910027962 and parameters: {'num_leaves': 170, 'n_estimators': 53, 'max_depth': 34, 'learning_rate': 0.11399373407129881, 'min_child_samples': 26, 'reg_alpha': 7.378322425112398, 'reg_lambda': 15.328398799426019, 'colsample_bytree': 0.7783763998911774, 'subsample': 0.7300392559581069}. Best is trial 71 with value: -0.017805932354938308.\u001b[0m\n",
      "\u001b[32m[I 2021-07-24 22:40:59,417]\u001b[0m Trial 92 finished with value: -0.018400916937232694 and parameters: {'num_leaves': 196, 'n_estimators': 57, 'max_depth': 48, 'learning_rate': 0.1299724840833694, 'min_child_samples': 18, 'reg_alpha': 4.908572646356522, 'reg_lambda': 3.1302532239394503, 'colsample_bytree': 0.7915547850585439, 'subsample': 0.7803376264246827}. Best is trial 71 with value: -0.017805932354938308.\u001b[0m\n",
      "\u001b[32m[I 2021-07-24 22:40:59,566]\u001b[0m Trial 93 finished with value: -0.017816727731708483 and parameters: {'num_leaves': 251, 'n_estimators': 61, 'max_depth': 43, 'learning_rate': 0.1662504543957989, 'min_child_samples': 10, 'reg_alpha': 2.6008820810193214, 'reg_lambda': 11.76414154286273, 'colsample_bytree': 0.7677669471881069, 'subsample': 0.6399831497879428}. Best is trial 71 with value: -0.017805932354938308.\u001b[0m\n",
      "\u001b[32m[I 2021-07-24 22:40:59,661]\u001b[0m Trial 94 finished with value: -0.018058572148018846 and parameters: {'num_leaves': 254, 'n_estimators': 61, 'max_depth': 43, 'learning_rate': 0.23227868684067374, 'min_child_samples': 36, 'reg_alpha': 2.027156290694289, 'reg_lambda': 22.352547244472916, 'colsample_bytree': 0.8164596269067077, 'subsample': 0.6310141541959156}. Best is trial 71 with value: -0.017805932354938308.\u001b[0m\n",
      "\u001b[32m[I 2021-07-24 22:40:59,741]\u001b[0m Trial 95 finished with value: -0.01974371458565908 and parameters: {'num_leaves': 307, 'n_estimators': 63, 'max_depth': 43, 'learning_rate': 0.23932403370003016, 'min_child_samples': 72, 'reg_alpha': 0.9736814502827631, 'reg_lambda': 42.5782953945349, 'colsample_bytree': 0.6899984286997398, 'subsample': 0.6335505115535136}. Best is trial 71 with value: -0.017805932354938308.\u001b[0m\n",
      "\u001b[32m[I 2021-07-24 22:40:59,826]\u001b[0m Trial 96 finished with value: -0.01997087645447051 and parameters: {'num_leaves': 253, 'n_estimators': 65, 'max_depth': 39, 'learning_rate': 0.27239482718196856, 'min_child_samples': 47, 'reg_alpha': 2.5149812095115, 'reg_lambda': 97.38724768121376, 'colsample_bytree': 0.7279914207748632, 'subsample': 0.6150714010591964}. Best is trial 71 with value: -0.017805932354938308.\u001b[0m\n",
      "\u001b[32m[I 2021-07-24 22:40:59,921]\u001b[0m Trial 97 finished with value: -0.01787810950644011 and parameters: {'num_leaves': 265, 'n_estimators': 61, 'max_depth': 45, 'learning_rate': 0.2165681131310133, 'min_child_samples': 37, 'reg_alpha': 1.3823701767889212, 'reg_lambda': 22.378812118028904, 'colsample_bytree': 0.7702720014056942, 'subsample': 0.653381731270367}. Best is trial 71 with value: -0.017805932354938308.\u001b[0m\n",
      "\u001b[32m[I 2021-07-24 22:41:00,093]\u001b[0m Trial 98 finished with value: -0.018706839099430602 and parameters: {'num_leaves': 315, 'n_estimators': 67, 'max_depth': 44, 'learning_rate': 0.21923844276791118, 'min_child_samples': 10, 'reg_alpha': 0.5656665757562915, 'reg_lambda': 22.9228236772588, 'colsample_bytree': 0.8638162164600064, 'subsample': 0.6535321400039518}. Best is trial 71 with value: -0.017805932354938308.\u001b[0m\n",
      "\u001b[32m[I 2021-07-24 22:41:00,187]\u001b[0m Trial 99 finished with value: -0.018673553518683213 and parameters: {'num_leaves': 349, 'n_estimators': 61, 'max_depth': 50, 'learning_rate': 0.20168352839228568, 'min_child_samples': 34, 'reg_alpha': 1.3699945545005157, 'reg_lambda': 65.17625786246641, 'colsample_bytree': 0.7646943869400294, 'subsample': 0.5454583372593875}. Best is trial 71 with value: -0.017805932354938308.\u001b[0m\n"
     ]
    }
   ],
   "source": [
    "import lightgbm as lgb\n",
    "import optuna\n",
    "from sklearn import metrics\n",
    "\n",
    "\n",
    "def objective(trial):\n",
    "\n",
    "    param = {\n",
    "        'num_leaves' : trial.suggest_int('num_leaves', 20,500),\\\n",
    "        'n_estimators' : trial.suggest_int('n_estimators', 50,100),\\\n",
    "        'max_depth' : trial.suggest_int('max_depth', 5,80),\\\n",
    "        'learning_rate' : trial.suggest_loguniform('learning_rate', 0.01, 0.5),\\\n",
    "        'min_child_samples': trial.suggest_int('min_child_samples', 10, 500),\\\n",
    "        'reg_alpha': trial.suggest_loguniform('reg_alpha', 1e-3, 100.0),\\\n",
    "        'reg_lambda': trial.suggest_loguniform('reg_lambda', 1e-3, 100.0),\\\n",
    "        'colsample_bytree': trial.suggest_uniform('colsample_bytree', 0.4, 1.0),\n",
    "        'subsample': trial.suggest_uniform('subsample', 0.4, 1.0)\n",
    "    }\n",
    "\n",
    "    lgb_model = lgb.LGBMRegressor(**param)\n",
    "    lgb_model.fit(X_train2,y_train2, eval_set=[(X_val2,y_val2)],early_stopping_rounds=30,verbose=False)\n",
    "    \n",
    "    pred = lgb_model.predict(X_val2)\n",
    "    error = -1 *(metrics.mean_squared_log_error(y_val2, pred))\n",
    "    \n",
    "    return error\n",
    "\n",
    "# 3. Create a study object and optimize the objective function.\n",
    "study = optuna.create_study(direction='maximize')\n",
    "study.optimize(objective, n_trials=100)"
   ]
  },
  {
   "cell_type": "code",
   "execution_count": 112,
   "metadata": {},
   "outputs": [
    {
     "data": {
      "text/plain": [
       "{'num_leaves': 210,\n",
       " 'n_estimators': 56,\n",
       " 'max_depth': 35,\n",
       " 'learning_rate': 0.14651223030548316,\n",
       " 'min_child_samples': 30,\n",
       " 'reg_alpha': 4.775633315904766,\n",
       " 'reg_lambda': 1.4028596243824722,\n",
       " 'colsample_bytree': 0.7722908831538167,\n",
       " 'subsample': 0.740848449330022}"
      ]
     },
     "execution_count": 112,
     "metadata": {},
     "output_type": "execute_result"
    }
   ],
   "source": [
    "lgbm_opt_params = study.best_trial.params\n",
    "lgbm_opt_params"
   ]
  },
  {
   "cell_type": "markdown",
   "metadata": {},
   "source": [
    "# Submission "
   ]
  },
  {
   "cell_type": "markdown",
   "metadata": {},
   "source": [
    "Using LGBM Model & Lasso Model to create final submissions "
   ]
  },
  {
   "cell_type": "markdown",
   "metadata": {},
   "source": [
    "## Lasso Model "
   ]
  },
  {
   "cell_type": "code",
   "execution_count": 105,
   "metadata": {},
   "outputs": [
    {
     "data": {
      "text/plain": [
       "Lasso(alpha=1000, max_iter=10000)"
      ]
     },
     "execution_count": 105,
     "metadata": {},
     "output_type": "execute_result"
    }
   ],
   "source": [
    "lasso_model = Lasso(alpha= 1000, max_iter=10000)\n",
    "lasso_model.fit(X_train, y_train)"
   ]
  },
  {
   "cell_type": "code",
   "execution_count": 106,
   "metadata": {},
   "outputs": [],
   "source": [
    "lasso_pred = lasso_model.predict(X_test)"
   ]
  },
  {
   "cell_type": "code",
   "execution_count": 109,
   "metadata": {},
   "outputs": [],
   "source": [
    "lasso_submission = submission.copy()\n",
    "lasso_submission['SalePrice'] = np.array(lasso_pred)"
   ]
  },
  {
   "cell_type": "code",
   "execution_count": 110,
   "metadata": {},
   "outputs": [
    {
     "data": {
      "text/html": [
       "<div>\n",
       "<style scoped>\n",
       "    .dataframe tbody tr th:only-of-type {\n",
       "        vertical-align: middle;\n",
       "    }\n",
       "\n",
       "    .dataframe tbody tr th {\n",
       "        vertical-align: top;\n",
       "    }\n",
       "\n",
       "    .dataframe thead th {\n",
       "        text-align: right;\n",
       "    }\n",
       "</style>\n",
       "<table border=\"1\" class=\"dataframe\">\n",
       "  <thead>\n",
       "    <tr style=\"text-align: right;\">\n",
       "      <th></th>\n",
       "      <th>Id</th>\n",
       "      <th>SalePrice</th>\n",
       "    </tr>\n",
       "  </thead>\n",
       "  <tbody>\n",
       "    <tr>\n",
       "      <th>0</th>\n",
       "      <td>1461</td>\n",
       "      <td>120857.844402</td>\n",
       "    </tr>\n",
       "    <tr>\n",
       "      <th>1</th>\n",
       "      <td>1462</td>\n",
       "      <td>151704.314295</td>\n",
       "    </tr>\n",
       "    <tr>\n",
       "      <th>2</th>\n",
       "      <td>1463</td>\n",
       "      <td>171501.367030</td>\n",
       "    </tr>\n",
       "    <tr>\n",
       "      <th>3</th>\n",
       "      <td>1464</td>\n",
       "      <td>188697.171063</td>\n",
       "    </tr>\n",
       "    <tr>\n",
       "      <th>4</th>\n",
       "      <td>1465</td>\n",
       "      <td>199024.223865</td>\n",
       "    </tr>\n",
       "  </tbody>\n",
       "</table>\n",
       "</div>"
      ],
      "text/plain": [
       "     Id      SalePrice\n",
       "0  1461  120857.844402\n",
       "1  1462  151704.314295\n",
       "2  1463  171501.367030\n",
       "3  1464  188697.171063\n",
       "4  1465  199024.223865"
      ]
     },
     "execution_count": 110,
     "metadata": {},
     "output_type": "execute_result"
    }
   ],
   "source": [
    "lasso_submission.head()"
   ]
  },
  {
   "cell_type": "code",
   "execution_count": 111,
   "metadata": {},
   "outputs": [],
   "source": [
    "lasso_submission.to_csv('lasso_submission.csv', index=False)"
   ]
  },
  {
   "cell_type": "code",
   "execution_count": null,
   "metadata": {},
   "outputs": [],
   "source": []
  },
  {
   "cell_type": "markdown",
   "metadata": {},
   "source": [
    "## LGBM Model"
   ]
  },
  {
   "cell_type": "code",
   "execution_count": 113,
   "metadata": {},
   "outputs": [
    {
     "data": {
      "text/plain": [
       "LGBMRegressor(colsample_bytree=0.7722908831538167,\n",
       "              learning_rate=0.14651223030548316, max_depth=35,\n",
       "              min_child_samples=30, n_estimators=56, num_leaves=210,\n",
       "              reg_alpha=4.775633315904766, reg_lambda=1.4028596243824722,\n",
       "              subsample=0.740848449330022)"
      ]
     },
     "execution_count": 113,
     "metadata": {},
     "output_type": "execute_result"
    }
   ],
   "source": [
    "lgbm_model = lgb.LGBMRegressor(**lgbm_opt_params)\n",
    "lgbm_model.fit(X_train, y_train)"
   ]
  },
  {
   "cell_type": "code",
   "execution_count": 114,
   "metadata": {},
   "outputs": [],
   "source": [
    "lgbm_pred = lgbm_model.predict(X_test)"
   ]
  },
  {
   "cell_type": "code",
   "execution_count": 115,
   "metadata": {},
   "outputs": [],
   "source": [
    "lgbm_submission = submission.copy()\n",
    "lgbm_submission['SalePrice'] = np.array(lgbm_pred)"
   ]
  },
  {
   "cell_type": "code",
   "execution_count": 116,
   "metadata": {},
   "outputs": [
    {
     "data": {
      "text/html": [
       "<div>\n",
       "<style scoped>\n",
       "    .dataframe tbody tr th:only-of-type {\n",
       "        vertical-align: middle;\n",
       "    }\n",
       "\n",
       "    .dataframe tbody tr th {\n",
       "        vertical-align: top;\n",
       "    }\n",
       "\n",
       "    .dataframe thead th {\n",
       "        text-align: right;\n",
       "    }\n",
       "</style>\n",
       "<table border=\"1\" class=\"dataframe\">\n",
       "  <thead>\n",
       "    <tr style=\"text-align: right;\">\n",
       "      <th></th>\n",
       "      <th>Id</th>\n",
       "      <th>SalePrice</th>\n",
       "    </tr>\n",
       "  </thead>\n",
       "  <tbody>\n",
       "    <tr>\n",
       "      <th>0</th>\n",
       "      <td>1461</td>\n",
       "      <td>129154.547652</td>\n",
       "    </tr>\n",
       "    <tr>\n",
       "      <th>1</th>\n",
       "      <td>1462</td>\n",
       "      <td>154605.645834</td>\n",
       "    </tr>\n",
       "    <tr>\n",
       "      <th>2</th>\n",
       "      <td>1463</td>\n",
       "      <td>178899.967621</td>\n",
       "    </tr>\n",
       "    <tr>\n",
       "      <th>3</th>\n",
       "      <td>1464</td>\n",
       "      <td>187833.409289</td>\n",
       "    </tr>\n",
       "    <tr>\n",
       "      <th>4</th>\n",
       "      <td>1465</td>\n",
       "      <td>192201.662482</td>\n",
       "    </tr>\n",
       "  </tbody>\n",
       "</table>\n",
       "</div>"
      ],
      "text/plain": [
       "     Id      SalePrice\n",
       "0  1461  129154.547652\n",
       "1  1462  154605.645834\n",
       "2  1463  178899.967621\n",
       "3  1464  187833.409289\n",
       "4  1465  192201.662482"
      ]
     },
     "execution_count": 116,
     "metadata": {},
     "output_type": "execute_result"
    }
   ],
   "source": [
    "lgbm_submission.head()"
   ]
  },
  {
   "cell_type": "code",
   "execution_count": 117,
   "metadata": {},
   "outputs": [],
   "source": [
    "lgbm_submission.to_csv('lgbm_submission.csv',index=False)"
   ]
  },
  {
   "cell_type": "code",
   "execution_count": null,
   "metadata": {},
   "outputs": [],
   "source": []
  }
 ],
 "metadata": {
  "kernelspec": {
   "display_name": "Python 3",
   "language": "python",
   "name": "python3"
  },
  "language_info": {
   "codemirror_mode": {
    "name": "ipython",
    "version": 3
   },
   "file_extension": ".py",
   "mimetype": "text/x-python",
   "name": "python",
   "nbconvert_exporter": "python",
   "pygments_lexer": "ipython3",
   "version": "3.9.5"
  },
  "toc": {
   "base_numbering": 1,
   "nav_menu": {},
   "number_sections": true,
   "sideBar": true,
   "skip_h1_title": false,
   "title_cell": "Table of Contents",
   "title_sidebar": "Contents",
   "toc_cell": false,
   "toc_position": {},
   "toc_section_display": true,
   "toc_window_display": false
  }
 },
 "nbformat": 4,
 "nbformat_minor": 4
}
